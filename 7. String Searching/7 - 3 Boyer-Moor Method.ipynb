{
 "cells": [
  {
   "cell_type": "markdown",
   "id": "5c8dab72",
   "metadata": {},
   "source": [
    "보이어-무어법은 KMP법보다 더 효율적이어서 실제 문자열 검색에서 널리 사용하는 알고리즘입니다."
   ]
  },
  {
   "cell_type": "markdown",
   "id": "b05caf63",
   "metadata": {},
   "source": [
    "## 보이어-무어법 알아보기"
   ]
  },
  {
   "cell_type": "markdown",
   "id": "ede752d9",
   "metadata": {},
   "source": [
    "보이어-무어법은 이론이나 실제 효율 면에서 KMP법보다 뛰어난 알고리즘입니다. 패턴의 끝문자에서 시작하여 앞쪽을 향해 검사를 수행합니다.\n",
    "\n",
    "이 과정에서 일치하지 않는 문자를 발견하면 미리 준비한 표를 바탕으로 패턴이 이동하는 값을 결정합니다."
   ]
  },
  {
   "cell_type": "markdown",
   "id": "8d0daeb1",
   "metadata": {},
   "source": [
    "**패턴에 포함되지 않는 문자를 만난 경우**\n",
    "- 패턴 이동량이 곧 n입니다.\n",
    "\n",
    "**패턴에 포함되는 문자를 만난 경우**\n",
    "- 마지막에 나오는 위치의 인덱스가 k이면 이동량은 n - k - 1입니다."
   ]
  },
  {
   "cell_type": "code",
   "execution_count": 3,
   "id": "59c938d7",
   "metadata": {},
   "outputs": [
    {
     "name": "stdout",
     "output_type": "stream",
     "text": [
      "텍스트를 입력하세요.: DMAKWLDNLGO\n",
      "패턴를 입력하세요.: DN\n",
      "7번째 문자가 일치합니다.\n"
     ]
    }
   ],
   "source": [
    "# 보이어-무어법으로 문자열 검색하기(문자열 길이는 0 ~ 255개)\n",
    "\n",
    "def bm_match(txt: str, pat: str) -> int:\n",
    "    \"\"\"보이어-무어법으로 문자열 검색\"\"\"\n",
    "    skip = [None] * 256                       # 건너뛰기 표\n",
    "    \n",
    "    # 건너뛰기 표 만들기\n",
    "    for pt in range(256):\n",
    "        skip[pt] = len(pat)\n",
    "    for pt in range(len(pat)):\n",
    "        skip[ord(pat[pt])] = len(pat) - pt - 1\n",
    "        \n",
    "    # 검색하기\n",
    "    while pt < len(txt):\n",
    "        pp = len(pat) - 1\n",
    "        while txt[pt] == pat[pp]:\n",
    "            if pp == 0:\n",
    "                return pt\n",
    "            pt -= 1\n",
    "            pp -= 1\n",
    "        pt += skip[ord(txt[pt])] if skip[ord(txt[pt])] > len(pat) - pp \\\n",
    "              else len(pat) - pp\n",
    "    \n",
    "    return -1\n",
    "\n",
    "if __name__ == '__main__':\n",
    "    s1 = input('텍스트를 입력하세요.: ')      # 텍스트용 문자열\n",
    "    s2 = input('패턴를 입력하세요.: ')        # 패턴용 문자열\n",
    "    \n",
    "    idx = bm_match(s1, s2)                    # 문자열 s1 ~ s2를 보이어-무어법으로 검색\n",
    "    \n",
    "    if idx == -1:\n",
    "        print('텍스트 안에 패턴이 존재하지 않습니다')\n",
    "    else:\n",
    "        print(f'{(idx + 1)}번째 문자가 일치합니다.')"
   ]
  },
  {
   "cell_type": "markdown",
   "id": "cb1a3d85",
   "metadata": {},
   "source": [
    "## 문자열 검색 알고리즘의 시간 복잡도\n",
    "\n",
    "- 브루트 포스법 <br>\n",
    "이 알고리즘의 시간 복잡도는 O(mn)이지만 일부러 꾸며 낸 패턴이 아니라면 O(n)이 된다고 알려져 있습니다. 단순한 알고리즘이지만 실제로는 아주 빠르게 동작합니다.\n",
    "\n",
    "\n",
    "- KMP법 <br>\n",
    "이 알고리즘의 시간 복잡도는 최악의 경우에도 O(n)입니다. 다만 처리하기 복잡하고 패턴 안에 반복이 없으면 효율은 좋지 않습니다. 그러나 검색 과정에서 주목하는 곳을 앞으로 되돌릴 필요가 전혀 없으므로 파일을 차례로 읽어 들이면서 검색할 때 사용하면 좋습니다.\n",
    "\n",
    "\n",
    "- 보이어-무어법 <br>\n",
    "이 알고리즘의 시간 복잡도는 최악의 경우라도 O(n)이고 평균 O(n / m)입니다. 보이어-무어법 실습에서는 배열을 1개만 사용했지만 배열 2개로 알고리즘을 구현하면 KMP법과 마찬가지로 배열을 만드는 데 복잡한 처리 과정이 필요하므로 효율성이 떨어집니다. 보이어-무어법은 배열을 1개만 사용해도 충분히 빠릅니다."
   ]
  },
  {
   "cell_type": "markdown",
   "id": "fa204bd6",
   "metadata": {},
   "source": [
    "### 문자 코드를 다루는 ord() 함수와 chr() 함수\n",
    "\n",
    "내장 함수 ord()는 단일한 문자를 전달받아 그 문자의 유니코드(unicode) 코드 포인트를 정수로 변환합니다.\n",
    "\n",
    "이를 거꾸로 수행하는 내장 함수는 chr()입니다."
   ]
  }
 ],
 "metadata": {
  "kernelspec": {
   "display_name": "Python 3 (ipykernel)",
   "language": "python",
   "name": "python3"
  },
  "language_info": {
   "codemirror_mode": {
    "name": "ipython",
    "version": 3
   },
   "file_extension": ".py",
   "mimetype": "text/x-python",
   "name": "python",
   "nbconvert_exporter": "python",
   "pygments_lexer": "ipython3",
   "version": "3.9.12"
  }
 },
 "nbformat": 4,
 "nbformat_minor": 5
}
