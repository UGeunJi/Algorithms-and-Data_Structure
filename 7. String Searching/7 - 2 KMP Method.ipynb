{
 "cells": [
  {
   "cell_type": "markdown",
   "id": "bb47e9cc",
   "metadata": {},
   "source": [
    "브루트 포스법은 일치하지 않는 문자를 만나면 다시 패턴의 첫 문자부터 검사를 수행하지만, 이와 달리 KMP법은 검사한 결과를 효율적으로 사용할 수 있는 알고리즘입니다."
   ]
  },
  {
   "cell_type": "markdown",
   "id": "fa318d4c",
   "metadata": {},
   "source": [
    "## KMP법 알아보기"
   ]
  },
  {
   "cell_type": "markdown",
   "id": "2cf96712",
   "metadata": {},
   "source": [
    "KMP법은 **건너뛰기 표**(skip table)검사했던 결과를 버리지 않고 효율적으로 활용하는 알고리즘입니다."
   ]
  },
  {
   "cell_type": "code",
   "execution_count": 1,
   "id": "d65366ef",
   "metadata": {},
   "outputs": [
    {
     "name": "stdout",
     "output_type": "stream",
     "text": [
      "텍스트를 입력하세요.: FNLAWOAWWANFS\n",
      "패턴를 입력하세요.: AN\n",
      "10번째 문자가 일치합니다.\n"
     ]
    }
   ],
   "source": [
    "# KMP법으로 문자열 검색하기\n",
    "\n",
    "def kmp_match(txt: str, pat: str) -> int:\n",
    "    \"\"\"KMP법으로 문자열 검색\"\"\"\n",
    "    pt = 1                        # txt를 따라가는 커서\n",
    "    pp = 0                        # pat를 따라가는 커서\n",
    "    skip = [0] * (len(pat) + 1)   # 건너뛰기 표\n",
    "    \n",
    "    # 건너뛰기 표 만들기\n",
    "    skip[pt] = 0\n",
    "    while pt != len(pat):\n",
    "        if pat[pt] == pat[pp]:\n",
    "            pt += 1\n",
    "            pp += 1\n",
    "            skip[pt] = pp\n",
    "        elif pp == 0:\n",
    "            pt += 1\n",
    "            skip[pt] == pp\n",
    "        else:\n",
    "            pp = skip[pp]\n",
    "            \n",
    "    # 문자열 검색하기\n",
    "    pt = pp = 0\n",
    "    while pt != len(txt) and pp != len(pat):\n",
    "        if txt[pt] == pat[pp]:\n",
    "            pt += 1\n",
    "            pp += 1\n",
    "        elif pp == 0:\n",
    "            pt += 1\n",
    "        else:\n",
    "            pp = skip[pp]\n",
    "        \n",
    "    return pt - pp if pp == len(pat) else -1\n",
    "\n",
    "if __name__ == '__main__':\n",
    "    s1 = input('텍스트를 입력하세요.: ')      # 텍스트용 문자열\n",
    "    s2 = input('패턴를 입력하세요.: ')        # 패턴용 문자열\n",
    "    \n",
    "    idx = kmp_match(s1, s2)                   # 문자열 s1 ~ s2까지 KMP법으로 검색\n",
    "    \n",
    "    if idx == -1:\n",
    "        print('텍스트 안에 패턴이 존재하지 않습니다')\n",
    "    else:\n",
    "        print(f'{(idx + 1)}번째 문자가 일치합니다.')"
   ]
  },
  {
   "cell_type": "markdown",
   "id": "b9b59e66",
   "metadata": {},
   "source": [
    "- 이 알고리즘은 복잡할 뿐 보이어-무어법보다 성능면에서 같거나 오히려 낮은 수준\n",
    "- 따라서 KMP법은 별로 사용하지 않음"
   ]
  }
 ],
 "metadata": {
  "kernelspec": {
   "display_name": "Python 3 (ipykernel)",
   "language": "python",
   "name": "python3"
  },
  "language_info": {
   "codemirror_mode": {
    "name": "ipython",
    "version": 3
   },
   "file_extension": ".py",
   "mimetype": "text/x-python",
   "name": "python",
   "nbconvert_exporter": "python",
   "pygments_lexer": "ipython3",
   "version": "3.9.12"
  }
 },
 "nbformat": 4,
 "nbformat_minor": 5
}
