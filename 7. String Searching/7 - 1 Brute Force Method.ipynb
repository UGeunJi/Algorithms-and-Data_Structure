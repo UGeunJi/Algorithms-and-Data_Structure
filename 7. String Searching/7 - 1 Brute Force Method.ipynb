{
 "cells": [
  {
   "cell_type": "markdown",
   "id": "839c3600",
   "metadata": {},
   "source": [
    "## 문자열 검색이란?\n",
    "\n",
    "**문자열 검색**은 어떤 문자열 안에 다른 문자열이 포함되어 있는지 검사하고, 만약 포함되어 있다면 어디에 위치하는지 찾아내는 것을 말합니다.\n",
    "\n",
    "검색되는 쪽의 문자열을 **텍스트**, 찾아내는 문자열을 **패턴**이라고 합니다."
   ]
  },
  {
   "cell_type": "markdown",
   "id": "b8d455d7",
   "metadata": {},
   "source": [
    "## 브루트 포스법 알아보기\n",
    "\n",
    "문자열 검색 알고리즘 중에서 가장 기초적인 검색법입니다. 이 방법은 선형 검색을 단순하게 확장한 알고리즘이라서 **단순법**이라고 합니다."
   ]
  },
  {
   "cell_type": "markdown",
   "id": "80665271",
   "metadata": {},
   "source": [
    "#### 검사한 위치를 기억하지 못하므로 브루트 포스법은 효율이 좋지 않습니다."
   ]
  },
  {
   "cell_type": "code",
   "execution_count": 2,
   "id": "f9573b41",
   "metadata": {},
   "outputs": [
    {
     "name": "stdout",
     "output_type": "stream",
     "text": [
      "텍스트를 입력하세요.: BMLAWHILAWF\n",
      "패턴를 입력하세요.: LA\n",
      "3번째 문자가 일치합니다.\n"
     ]
    }
   ],
   "source": [
    "# 브루트 포스법으로 문자열 검색하기\n",
    "\n",
    "def bf_match(txt: str, pat: str) -> int:\n",
    "    \"\"\"브루트 포스법으로 문자열 검색\"\"\"\n",
    "    pt = 0                                       # txt를 따라가는 커서\n",
    "    pp = 0                                       # pat를 따라가는 커서\n",
    "    \n",
    "    while pt != len(txt) and pp != len(pat):\n",
    "        if txt[pt] == pat[pp]:\n",
    "            pt += 1\n",
    "            pp += 1\n",
    "        else:\n",
    "            pt = pt - pp + 1\n",
    "            pp = 0\n",
    "            \n",
    "    return pt - pp if pp == len(pat) else -1\n",
    "\n",
    "if __name__ == '__main__':\n",
    "    s1 = input('텍스트를 입력하세요.: ')       # 텍스트용 문자열\n",
    "    s2 = input('패턴를 입력하세요.: ')        # 패턴용 문자열\n",
    "    \n",
    "    idx = bf_match(s1, s2)                   # 문자열 s1 ~ s2를 브루트 포스법으로 검색\n",
    "    \n",
    "    if idx == -1:\n",
    "        print('텍스트 안에 패턴이 존재하지 않습니다')\n",
    "    else:\n",
    "        print(f'{(idx + 1)}번째 문자가 일치합니다.')"
   ]
  },
  {
   "cell_type": "markdown",
   "id": "9ec6bb32",
   "metadata": {},
   "source": [
    "### 멤버십 연산자와 표준 라이브러리를 사용한 문자열 검색\n",
    "\n",
    "멤버십 연산자\n",
    "\n",
    "- in\n",
    "- not in"
   ]
  },
  {
   "cell_type": "markdown",
   "id": "30499470",
   "metadata": {},
   "source": [
    "find, index 계열 함수로 구현하기\n",
    "\n",
    "- str.find(sub[, start [, end]]) $~~~$   - sub의 가장 작은 인덱스 반환(그렇지 않으면 -1 반환)\n",
    "- str.rfind(sub[, start [, end]]) $~~~$  - sub의 가장 큰 인덱스 반환(그렇지 않으면 -1 반환)\n",
    "- str.index(sub[, start [, end]]) $~~~$  - sub의 가장 작은 인덱스 반환(그렇지 않으면 ValueError 반환)\n",
    "- str.rindex(sub[, start [, end]]) $~~~$  - sub의 가장 큰 인덱스 반환(그렇지 않으면 ValueError 반환)"
   ]
  },
  {
   "cell_type": "markdown",
   "id": "9c8c1281",
   "metadata": {},
   "source": [
    "with 계열 함수로 구현하기\n",
    "- str.startwith(prefix[, start [, end]]) $~~~$  - 문자열이 prefix로 시작하면 True, 그렇지 않으면 False\n",
    "- str.endwith(suffix[, start [, end]])  $~~~$  - 문자열이 suffix로 끝하면 True, 그렇지 않으면 False"
   ]
  }
 ],
 "metadata": {
  "kernelspec": {
   "display_name": "Python 3 (ipykernel)",
   "language": "python",
   "name": "python3"
  },
  "language_info": {
   "codemirror_mode": {
    "name": "ipython",
    "version": 3
   },
   "file_extension": ".py",
   "mimetype": "text/x-python",
   "name": "python",
   "nbconvert_exporter": "python",
   "pygments_lexer": "ipython3",
   "version": "3.9.12"
  }
 },
 "nbformat": 4,
 "nbformat_minor": 5
}
