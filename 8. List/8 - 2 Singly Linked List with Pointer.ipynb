{
 "cells": [
  {
   "cell_type": "markdown",
   "id": "3dda2d68",
   "metadata": {},
   "source": [
    "## 포인터로 연결 리스트 만들기"
   ]
  },
  {
   "cell_type": "markdown",
   "id": "7b2941da",
   "metadata": {},
   "source": [
    "연결 리스트에 데이터를 삽입할 때 노드용 인스턴스를 생성하고, 데이터를 삭제할 때 노드용 인스턴스를 없애면 앞에서 제시한 데이터를 옮기는 문제를 해결할 수 있습니다."
   ]
  },
  {
   "cell_type": "markdown",
   "id": "3174fbab",
   "metadata": {},
   "source": [
    "Node는 데이터용 필드 data와는 별도로 자신과 같은 형의 인스턴스를 참조하는 필드가 있는 구조를 자기 참고(self-referential)형이라고 합니다."
   ]
  },
  {
   "cell_type": "markdown",
   "id": "077ba81f",
   "metadata": {},
   "source": [
    "여기에서 data는 데이터 자체가 아니라 **'데이터에 대한 참조'**이고 next는 **'노드에 대한 참조'**입니다."
   ]
  },
  {
   "cell_type": "code",
   "execution_count": 1,
   "id": "ca83d6bd",
   "metadata": {},
   "outputs": [],
   "source": [
    "# 포인터로 연결 리스트 구현하기\n",
    "\n",
    "from __future__ import annotations\n",
    "from typing import Any, Type\n",
    "\n",
    "class Node:\n",
    "    \"\"\"연결 리스트용 노드 클래스\"\"\"\n",
    "    \n",
    "    def __init__(self, data: Any = None, next: Node = None):\n",
    "        \"\"\"초기화\"\"\"\n",
    "        self.data = data     # 데이터\n",
    "        self.next = next     # 뒤쪽 포인터"
   ]
  },
  {
   "cell_type": "markdown",
   "id": "99974dba",
   "metadata": {},
   "source": [
    "- data: 데이터(데이터에 대한 참조: 임의의 형)\n",
    "- next: 뒤쪽 포인터(뒤쪽 노드에 대한 참조: Node형)"
   ]
  },
  {
   "cell_type": "markdown",
   "id": "3b3c2d32",
   "metadata": {},
   "source": [
    "__init__() 함수\n",
    "\n",
    "__init__() 함수는 전달받은 data와 next를 해당 필드에 대입합니다. 호출할 때 어떤 인수도 생략할 수 있으며, 생략할 경우에는 None으로 간주합니다."
   ]
  },
  {
   "cell_type": "markdown",
   "id": "530c0f00",
   "metadata": {},
   "source": [
    "### 파이썬의 리스트는 자료구조가 아닙니다.\n",
    "\n",
    "연결 리스트는 임의의 위치에 원소를 삽입하거나 삭제할 때 빠르게 수행할 수 있다는 장점이 있습니다. 하지만 기억 영역(메모리)과 속도 면에서는 배열보다 효율이 떨어집니다. <br>\n",
    "파이썬의 리스트는 이러한 연결 리스트의 자료구조가 아니라 모든 원소를 연속으로 메모리에 배치하는 '배열'로 내부에서 구현하고 있습니다. 그러므로 속도가 급격히 떨어지지는 않습니다. 또 원소를 하나씩 추가, 삽입할 때마다 내부에서 메모리를 확보하거나 해제하지 않습니다. 실제 필요한 메모리보다 여유 있게 미리 마련해 놓기 때문입니다."
   ]
  },
  {
   "cell_type": "code",
   "execution_count": 2,
   "id": "56a65c0f",
   "metadata": {},
   "outputs": [],
   "source": [
    "class LinkedList:\n",
    "    \"\"\"연결 리스트 클래스\"\"\"\n",
    "    \n",
    "    def __init__(self) -> None:\n",
    "        \"\"\"초기화\"\"\"\n",
    "        self.no = 0               # 노드의 개수\n",
    "        self.head = None         # 머리 노드\n",
    "        self.current = None      # 주목 노드\n",
    "        \n",
    "    def __len__(self) -> int:\n",
    "        \"\"\"연결 리스트의 노드 개수를 반환\"\"\"\n",
    "        return self.no"
   ]
  },
  {
   "cell_type": "markdown",
   "id": "35389c06",
   "metadata": {},
   "source": [
    "- no: 리스트에 등록되어 있는 노드의 개수입니다.\n",
    "- head: 머리 노드에 대한 참조입니다.\n",
    "- current: 현재 주목하고 있는 노드에 대한 참조이며, 이 책에서는 주목 포인터라고 하겠습니다. 리스트에서 노드를 검색하여, 그 노드를 주목한 직후에 노드를 삭제하는 등의 용도로 사용합니다."
   ]
  },
  {
   "cell_type": "markdown",
   "id": "a0abca71",
   "metadata": {},
   "source": [
    "- 빈 연결 리스트 <br>\n",
    "\n",
    "head is None\n",
    "\n",
    "- 노드가 1개인 연결 리스트\n",
    "\n",
    "head.next is None\n",
    "\n",
    "- 노드가 2개인 연결 리스트\n",
    "\n",
    "head.next.next is None\n",
    "\n",
    "- 꼬리 노드의 판단\n",
    "\n",
    "p.next is None"
   ]
  },
  {
   "cell_type": "markdown",
   "id": "a5bd1678",
   "metadata": {},
   "source": [
    "#### 노드를 스캔할 때 다음 조건 가운데 하나만 성립해도 검색이 종료됩니다.\n",
    "\n",
    "- 종료 조건 1: 검색 조건을 만족하는 노드를 발견하지 못하고 꼬리 노드까지 왔을 경우\n",
    "- 종료 조건 2: 검색 조건을 만족하는 노드를 발견한 경우"
   ]
  },
  {
   "cell_type": "code",
   "execution_count": 3,
   "id": "8e6de689",
   "metadata": {},
   "outputs": [],
   "source": [
    "    def search(self, data:Any) -> int:\n",
    "        \"\"\"data와 값이 같은 노드를 탐색\"\"\"\n",
    "        cnt = 0\n",
    "        ptr = self.head\n",
    "        while ptr.data == data:\n",
    "            if ptr.data == data:\n",
    "                self.current = ptr\n",
    "                return cnt\n",
    "            cnt += 1\n",
    "            ptr = ptr.next\n",
    "        return -1\n",
    "    \n",
    "    def __contains__(self, data: Any) -> bool:\n",
    "        \"\"\"연결 리스트에 data가 포함되어 있는지 확인\"\"\"\n",
    "        return self.search(data) >= 0\n",
    "    \n",
    "    def add_first(self, data: Any) -> None:\n",
    "        \"\"\"맨 앞에 노드를 삽입\"\"\"\n",
    "        ptr = self.head   # 삽입하기 전의 머리 노드\n",
    "        self.head = self.current = Node(data, ptr)\n",
    "        self.no += 1"
   ]
  },
  {
   "cell_type": "markdown",
   "id": "c7fad9d6",
   "metadata": {},
   "source": [
    "#### 꼬리에 노드를 삽입하는 add_last() 함수\n",
    "\n",
    "- 리스트가 비어있을 때\n",
    "\n",
    "$ ~~~ $ 맨 앞에 노드를 삽입하는 것과 같은 처리를 수행하므로 add_first() 함수를 호출합니다.\n",
    "\n",
    "- 리스트가 비어 있지 않을 때\n",
    "\n",
    "$ ~~~ $ 리스트의 맨 끝에 노드 G를 삽입합니다."
   ]
  },
  {
   "cell_type": "code",
   "execution_count": 4,
   "id": "f3360bd0",
   "metadata": {},
   "outputs": [],
   "source": [
    "    def add_last(self, data: Any):\n",
    "        \"\"\"맨 끝에 노드를 삽입\"\"\"\n",
    "        if self.head is None:            # 리스트가 비어 있으면\n",
    "            self.add_first(data)          # 맨 앞에 노드를 삽입\n",
    "        else:\n",
    "            ptr = self.head\n",
    "            while ptr.next is not None:\n",
    "                ptr = ptr.next\n",
    "            ptr.next = self.current = Node(data, None)\n",
    "            self.no += 1\n",
    "            \n",
    "    def remove_first(self) -> None:\n",
    "        \"\"\"머리 노드를 삭제\"\"\"\n",
    "        if self.head is not None:        # 리스트가 비어 있지 않다면\n",
    "            self.head = self.current = self.head.next\n",
    "        self.no -= 1"
   ]
  },
  {
   "cell_type": "markdown",
   "id": "985e39b8",
   "metadata": {},
   "source": [
    "#### 꼬리 노드를 삭제하는 remove_last() 함수\n",
    "\n",
    "- 리스트에 노드가 하나만 존재할 때\n",
    "\n",
    "$ ~~~ $ 머리 노드가 삭제하는 것이므로 remove_first() 함수를 호출합니다.\n",
    "\n",
    "- 리스트에 노드가 2개 이상 존재할 때\n",
    "\n",
    "$ ~~~ $ 리스트의 맨 끝에서 노드 F를 삭제합니다."
   ]
  },
  {
   "cell_type": "code",
   "execution_count": 5,
   "id": "64ad1408",
   "metadata": {},
   "outputs": [],
   "source": [
    "    def remove_last(self):\n",
    "        \"\"\"꼬리 노드를 삭제\"\"\"\n",
    "        if self.head is not None:\n",
    "            if self.head.next is None:         # 노드가 1개 뿐이라면\n",
    "                self.remove_first()             # 머리 노드를 삭제\n",
    "            else:\n",
    "                ptr = self.head                 # 스캔 중인 노드\n",
    "                pre = self.head                 # 스캔 중인 노드의 앞쪽 노드\n",
    "                \n",
    "                while ptr.next is not None:\n",
    "                    pre = ptr\n",
    "                    ptr = ptr.next\n",
    "                pre.next = None                 # pre는 삭제 뒤 꼬리 노드\n",
    "                self.current = pre\n",
    "                self.no -= 1"
   ]
  },
  {
   "cell_type": "markdown",
   "id": "7d339155",
   "metadata": {},
   "source": [
    "#### 임의의 노드를 삭제하는 remove() 함수\n",
    "\n",
    "- p가 머리 노드일 때\n",
    "\n",
    "$ ~~~ $ 머리 노드를 삭제하는 것이므로 remove_first() 함수를 호출합니다.\n",
    "\n",
    "- p가 머리 노드가 아닐 때\n",
    "\n",
    "$ ~~~ $ 리스트에서 p가 참조하는 노드 D를 삭제합니다."
   ]
  },
  {
   "cell_type": "code",
   "execution_count": 6,
   "id": "01d7dd9f",
   "metadata": {},
   "outputs": [],
   "source": [
    "    def remove(self, p: Node) -> None:\n",
    "        \"\"\"노드 p를 삭제\"\"\"\n",
    "        if self.head is not None:\n",
    "            if p is self.head:                     # p가 머리 노드이면\n",
    "                self.remove_first()                # 머리 노드를 삭제\n",
    "            else:\n",
    "                ptr = self.head\n",
    "                \n",
    "                while ptr.next is not p:\n",
    "                    ptr = ptr.next\n",
    "                    if ptr is None:\n",
    "                        return                     # ptr은 리스트에 존재하지 않음\n",
    "                ptr.next = p.next\n",
    "                self.current = ptr\n",
    "                self.no -= 1\n",
    "                \n",
    "    def remove_current_node(self) -> None:\n",
    "        \"\"\"주목 노드를 삭제\"\"\"\n",
    "        self.remove(self.current)\n",
    "        \n",
    "    def clear(self) -> None:\n",
    "        \"\"\"전체 노드를 삭제\"\"\"\n",
    "        while self.head is not None:              # 전체가 비어 있을 때까지\n",
    "            self.remove_first()                    # 머리 노드를 삭제\n",
    "        self.current = None\n",
    "        self.no = 0\n",
    "        \n",
    "    def next(self) -> bool:\n",
    "        \"\"\"주목 노드를 한 칸 뒤로 이동\"\"\"\n",
    "        if self.current is None or self.current.next is None:\n",
    "            return False                          # 이동할 수 없음\n",
    "        self.current = self.current.next\n",
    "        return True\n",
    "    \n",
    "    def print_current_node(self) -> None:\n",
    "        \"\"\"주목 노드를 출력\"\"\"\n",
    "        if self.current is None:\n",
    "            print('주목 노드가 존재하지 않습니다.')\n",
    "        else:\n",
    "            print(self.current.data)\n",
    "        \n",
    "    def print(self) -> None:\n",
    "        \"\"\"모든 노드를 출력\"\"\"\n",
    "        ptr = self.head\n",
    "        \n",
    "        while ptr is not None:\n",
    "            print(ptr.data)\n",
    "            ptr = ptr.next"
   ]
  },
  {
   "cell_type": "markdown",
   "id": "29b71ec1",
   "metadata": {},
   "source": [
    "| 실행한 함수 | current의 값 |\n",
    "| --- | --- |\n",
    "| __init__() | None |\n",
    "| search() | 검색에 성공하면 발견할 수 있는 노드 |\n",
    "| add_first() | 삽입한 머리 노드 |\n",
    "| add_last() | 삽입한 꼬리 노드 |\n",
    "| remove_first() | 삭제한 뒤 머리 노드(리스트가 비어 있으면 None) |\n",
    "| remove_last() | 삭제한 뒤 꼬리 노드(리스트가 비어 있으면 None) |\n",
    "| remove() | 삭제한 노드의 앞쪽 노드 |\n",
    "| remove_current_node() | 삭제한 노드의 앞쪽 노드 |\n",
    "| clear() | None |\n",
    "| next() | 이동한 뒤 주목 노드 |\n",
    "| print_current_node() | 업데이트하지 않음 |\n",
    "| print() | 업데이트하지 않음 |"
   ]
  },
  {
   "cell_type": "code",
   "execution_count": null,
   "id": "caec7af1",
   "metadata": {},
   "outputs": [],
   "source": [
    "    def __iter__(self) -> LinkedListIterator:\n",
    "        \"\"\"이터레이터를 반환\"\"\"\n",
    "        return LinkedListIterator(self.head)\n",
    "    \n",
    "class LinkedListIterator:\n",
    "    \"\"\"클래스 LinkedList의 이터레이터용 클래스\"\"\"\n",
    "    \n",
    "    def __init__(self, head: Node):\n",
    "        self.current = head\n",
    "        \n",
    "    def __iter__(self) -> LinkedListIterator:\n",
    "        return self\n",
    "\n",
    "    def __next__(self) -> Any:\n",
    "        if self.current is None:\n",
    "            raise StopIteration\n",
    "        else:\n",
    "            data = self.current.data\n",
    "            self.current = self.current.next\n",
    "            return data"
   ]
  },
  {
   "cell_type": "markdown",
   "id": "7bc2527b",
   "metadata": {},
   "source": [
    "### 이터러블 객체와 이터레이터의 구현\n",
    "\n",
    "str형 문자열, list형 리스트, tuple형 튜플 등은 이터러블(반복 가능)하다는 공통점이 있습니다. <br>\n",
    "이터러블 객체는 원소를 1개씩 꺼내는 구조의 객체입니다. 이터러블 객체를 내장 함수인 iter() 함수에 인수로 전달하면 그 객체에 대한 이터레이터(반복자)를 반환합니다. <br>\n",
    "이터레이터는 데이터가 줄지어 늘어선 것을 표현하는 객체입니다. 이터레이터의 __next__() 함수를 호출하거나, 내장 함수인 next() 함수에 반복자를 전달하면 줄지어 늘어선 원소를 순차적으로 꺼냅니다. 꺼낼 원소가 없으면 StopIteration 예외 처리를 내보냅니다."
   ]
  },
  {
   "cell_type": "markdown",
   "id": "f2a345ca",
   "metadata": {},
   "source": [
    "- __next__() 함수를 갖는 이터레이터를 반환하는 __iter__() 함수를 구현합니다.\n",
    "- __next__() 함수는 다음 우너소를 꺼내 반환합니다. 반환하는 원소가 없으면 StopIteration 예외 처리를 내보냅니다."
   ]
  },
  {
   "cell_type": "markdown",
   "id": "18fd82d0",
   "metadata": {},
   "source": [
    "## 포인터로 연결 리스트 프로그램 만들기"
   ]
  },
  {
   "cell_type": "code",
   "execution_count": null,
   "id": "eae35156",
   "metadata": {},
   "outputs": [],
   "source": [
    "# 포인터로 이용한 연결 리스트 클래스 LinkedList 사용하기\n",
    "\n",
    "from enum import Enum\n",
    "from linked_list import LinkedList\n",
    "\n",
    "Menu = Enum('Menu', ['머리에노드삽입', '꼬리에노드삽입', '머리노드삭제',\n",
    "                     '꼬리노드삭제', '주목노드출력', '주목노드이동',\n",
    "                     '주목노드삭제', '모든노드삭제', '검색', '멤버십판단',\n",
    "                     '모든노드출력', '스캔', '종료',])\n",
    "\n",
    "def select_Menu() -> Menu:\n",
    "    \"\"\"메뉴 선택\"\"\"\n",
    "    s = [f'({m.value}){m.name}' for m in Menu]\n",
    "    while True:\n",
    "        print(*s, sep='  ', end='')\n",
    "        n = int(input(': '))\n",
    "        if 1 <= n <= len(Menu):\n",
    "            return Menu(n)\n",
    "\n",
    "\n",
    "lst = LinkedList()  # 연결 리스트를 생성\n",
    "\n",
    "while True:\n",
    "    menu = select_Menu()  # 메뉴 선택\n",
    "\n",
    "    if menu == Menu.머리에노드삽입:  # 맨 앞에 노드 삽입\n",
    "        lst.add_first(int(input('머리에 넣을 값을 입력하세요.: ')))\n",
    "\n",
    "    elif menu == Menu.꼬리에노드삽입:  # 맨 끝에 노드 삽입\n",
    "        lst.add_last(int(input('꼬리에 넣을 값을 입력하세요.: ')))\n",
    "\n",
    "    elif menu == Menu.머리노드삭제:  # 맨 앞 노드 삭제\n",
    "        lst.remove_first()\n",
    "\n",
    "    elif menu == Menu.꼬리노드삭제:  # 맨 끝 노드 삭제\n",
    "        lst.remove_last()\n",
    "\n",
    "    elif menu == Menu.주목노드출력:  # 주목 노드 출력\n",
    "        lst.print_current_node()\n",
    "\n",
    "    elif menu == Menu.주목노드이동:  # 주목 노드를 한 칸 뒤로 이동\n",
    "        lst.next()\n",
    "\n",
    "    elif menu == Menu.주목노드삭제:  # 주목 노드 삭제\n",
    "        lst.remove_current_node()\n",
    "\n",
    "    elif menu == Menu.모든노드삭제:  # 모든 노드를 삭제\n",
    "        lst.clear()\n",
    "\n",
    "    elif menu == Menu.검색:  # 노드를 검색\n",
    "        pos = lst.search(int(input('검색할 값을 입력하세요.: ')))\n",
    "        if pos >= 0:\n",
    "            print(f'그 값의 데이터는 {pos + 1}번째에 있습니다.')\n",
    "        else:\n",
    "            print('해당 데이터가 없습니다.')\n",
    "\n",
    "    elif menu == Menu.멤버십판단:  # 멤버십 판단\n",
    "        print('그 값의 데이터는 포함되어' + (' 있습니다.' if int(input('멤버십 판단할 값을 입력하세요.: ')) in lst else ' 있지 않습니다.'))\n",
    "\n",
    "    elif menu == Menu.모든노드출력:  # 모든 노드 출력\n",
    "        lst.print()\n",
    "\n",
    "    elif menu == Menu.스캔:  # 모든 노드 스캔\n",
    "        for e in lst:\n",
    "            print(e)\n",
    "\n",
    "    else:  # 종료\n",
    "        break"
   ]
  }
 ],
 "metadata": {
  "kernelspec": {
   "display_name": "Python 3 (ipykernel)",
   "language": "python",
   "name": "python3"
  },
  "language_info": {
   "codemirror_mode": {
    "name": "ipython",
    "version": 3
   },
   "file_extension": ".py",
   "mimetype": "text/x-python",
   "name": "python",
   "nbconvert_exporter": "python",
   "pygments_lexer": "ipython3",
   "version": "3.9.12"
  }
 },
 "nbformat": 4,
 "nbformat_minor": 5
}
