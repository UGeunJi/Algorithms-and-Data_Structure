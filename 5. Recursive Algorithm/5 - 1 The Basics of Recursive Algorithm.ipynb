{
 "cells": [
  {
   "cell_type": "markdown",
   "id": "9e5b3f17",
   "metadata": {},
   "source": [
    "## 재귀 알아보기"
   ]
  },
  {
   "cell_type": "markdown",
   "id": "bbbfcd93",
   "metadata": {},
   "source": [
    "어떠한 이벤트에서 자기 자신을 포함하고 다시 자신을 사용하여 정의되는 경우 재귀(recursive)라고 합니다."
   ]
  },
  {
   "cell_type": "markdown",
   "id": "b1e0a4fc",
   "metadata": {},
   "source": [
    "#### 자연수의 정의\n",
    "- 1은 자연수입니다.\n",
    "- 어떤 자연수의 바로 다음 수도 자연수입니다."
   ]
  },
  {
   "cell_type": "markdown",
   "id": "d2b626b3",
   "metadata": {},
   "source": [
    "무한히 존재하는 자연수를 재귀적 정의(recursive definition)를 사용해서 위의 두 문장으로 정의했습니다."
   ]
  },
  {
   "cell_type": "markdown",
   "id": "6f7fde61",
   "metadata": {},
   "source": [
    "### 팩토리얼 알아보기"
   ]
  },
  {
   "cell_type": "markdown",
   "id": "191c38d0",
   "metadata": {},
   "source": [
    "팩토리얼 n!의 정의(n은 양의 정수)\n",
    "- 0! = 1\n",
    "- n > 0이면 n! = n x (n - 1)!"
   ]
  },
  {
   "cell_type": "code",
   "execution_count": 1,
   "id": "d18bd940",
   "metadata": {},
   "outputs": [
    {
     "name": "stdout",
     "output_type": "stream",
     "text": [
      "출력할 팩토리얼값을 입력하세요.: 4\n",
      "4의 팩토리얼은 24입니다.\n"
     ]
    }
   ],
   "source": [
    "# 양의 정수 n의 팩토리얼 구하기\n",
    "\n",
    "def factorial(n: int) -> int:\n",
    "    \"\"\"양의 정수 n의 팩토리얼값을 재귀적으로 구함\"\"\"\n",
    "    if n > 0:\n",
    "        return n * factorial(n - 1)\n",
    "    else:\n",
    "        return 1\n",
    "    \n",
    "if __name__=='__main__':\n",
    "    n = int(input('출력할 팩토리얼값을 입력하세요.: '))\n",
    "    print(f'{n}의 팩토리얼은 {factorial(n)}입니다.')"
   ]
  },
  {
   "cell_type": "markdown",
   "id": "475c5e83",
   "metadata": {},
   "source": [
    "#### 보충 수업 5 - 1  math.factorial() 함수\n",
    "\n",
    "파이썬에서 팩터리얼 값을 구하는 표준 라이브러리로 math 모듈에서 factorial() 함수를 제공합니다. 예를 들어 math.factorial(x)는 정수 x의\n",
    "팩토리얼값을 반환합니다. x가 아니거나 음수라면 ValueError 예외 처리를 내보냅니다."
   ]
  },
  {
   "cell_type": "markdown",
   "id": "f1816062",
   "metadata": {},
   "source": [
    "### 유클리드 호제법(Euclidean Algorithm) 알아보기"
   ]
  },
  {
   "cell_type": "code",
   "execution_count": 2,
   "id": "a4c306d9",
   "metadata": {},
   "outputs": [
    {
     "name": "stdout",
     "output_type": "stream",
     "text": [
      "두 정숫값의 최대 공약수를 구합니다.\n",
      "첫 번째 정숫값을 입력하세요.: 11\n",
      "두 번째 정숫값을 입력하세요.: 22\n",
      "두 정숫값의 최대 공약수는 11입니다.\n"
     ]
    }
   ],
   "source": [
    "# 유클리드 호제법으로 최대 공약수 구하기\n",
    "\n",
    "def gcd(x: int, y: int) -> int:\n",
    "    \"\"\"정수값 x와 y의 최대 공약수를 반환\"\"\"\n",
    "    if y == 0:\n",
    "        return x\n",
    "    else:\n",
    "        return gcd(y, x % y)\n",
    "    \n",
    "if __name__ == '__main__':\n",
    "    print('두 정숫값의 최대 공약수를 구합니다.')\n",
    "    \n",
    "x = int(input('첫 번째 정숫값을 입력하세요.: '))\n",
    "y = int(input('두 번째 정숫값을 입력하세요.: '))\n",
    "\n",
    "print(f'두 정숫값의 최대 공약수는 {gcd(x, y)}입니다.')"
   ]
  },
  {
   "cell_type": "markdown",
   "id": "7728aa57",
   "metadata": {},
   "source": [
    "#### 보충 수업 5 - 2 math.gcd() 함수\n",
    "파이썬에서는 최대 공약수를 구하는 표준 라이브러리로 math 모듈에서 gcd()함수를 제공합니다. 예를 들어 math.gcd(a, b)는 정수 a와 b의 최대\n",
    "공약수를 반환합니다. a, b가 0이 아닌 경우 gcd(a, b)의 값은 a와 b 모두를 나누어 떨어지게 하는 가장 큰 정수를 반환합니다."
   ]
  }
 ],
 "metadata": {
  "kernelspec": {
   "display_name": "Python 3 (ipykernel)",
   "language": "python",
   "name": "python3"
  },
  "language_info": {
   "codemirror_mode": {
    "name": "ipython",
    "version": 3
   },
   "file_extension": ".py",
   "mimetype": "text/x-python",
   "name": "python",
   "nbconvert_exporter": "python",
   "pygments_lexer": "ipython3",
   "version": "3.9.12"
  }
 },
 "nbformat": 4,
 "nbformat_minor": 5
}
