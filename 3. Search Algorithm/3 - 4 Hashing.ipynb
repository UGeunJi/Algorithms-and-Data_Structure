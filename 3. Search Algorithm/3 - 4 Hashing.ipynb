{
 "cells": [
  {
   "cell_type": "markdown",
   "id": "a73d935f",
   "metadata": {},
   "source": [
    "# 해시법"
   ]
  },
  {
   "cell_type": "markdown",
   "id": "014d7446",
   "metadata": {},
   "source": [
    "해시법은 '데이터를 저장할 위치 = 인덱스'를 간단한 연산으로 구하는 것을 말합니다. 이 방법은 원소의 검색뿐 아니라 추가, 삭제도 효율적으로\n",
    "수행할 수 있습니다."
   ]
  },
  {
   "cell_type": "markdown",
   "id": "43e2b190",
   "metadata": {},
   "source": [
    "## 해시 충돌"
   ]
  },
  {
   "cell_type": "markdown",
   "id": "09e73e2d",
   "metadata": {},
   "source": [
    "키와 해시값의 대응 관계가 꼭 1:1일 필요는 없습니다. 키와 해시값은 일반적으로 다대 1(n:1)입니다. 이처럼 저장할 버킷이 중복되는 현상을\n",
    "충돌(collision)이라고 합니다."
   ]
  },
  {
   "cell_type": "markdown",
   "id": "bd172e30",
   "metadata": {},
   "source": [
    "이렇게 해시법에서 충돌이 발생하는 경우 다음 2가지 방법으로 대처할 수 있습니다.\n",
    "- 체인법: 해시값이 같은 원소를 연결 리스트로 관리합니다.\n",
    "- 오픈 주소법: 빈 버킷을 찾을 때까지 해시를 반복합니다."
   ]
  },
  {
   "cell_type": "markdown",
   "id": "eb641401",
   "metadata": {},
   "source": [
    "### 체인법"
   ]
  },
  {
   "cell_type": "markdown",
   "id": "211c89be",
   "metadata": {},
   "source": [
    "체인법이란 해시값이 같은 데이터를 체인 모양의 연결 리스트로 연결하는 방법을 말하며 오픈 해시법(Open Hashing)이라고도 합니다."
   ]
  },
  {
   "cell_type": "code",
   "execution_count": 1,
   "id": "65f96f6e",
   "metadata": {},
   "outputs": [],
   "source": [
    "# 체인법으로 해시 함수 구현하기\n",
    "\n",
    "from __future__ import annotations\n",
    "from typing import Any, Type\n",
    "import hashlib\n",
    "\n",
    "class Node:\n",
    "    \"\"\"해시를 구성하는 노드\"\"\"\n",
    "    \n",
    "    \n",
    "    def __init__(self, key: Any, value: Any, next: Node) -> None:\n",
    "        \"\"\"초기화\"\"\"\n",
    "        self.key = key      # 키\n",
    "        self.value = value  # 값\n",
    "        self.next = next    # 뒤쪽 노드를 참조"
   ]
  },
  {
   "cell_type": "markdown",
   "id": "a2d77b88",
   "metadata": {},
   "source": [
    "#### Node 클래스 만들기\n",
    "\n",
    "- key: 키(임의의 자료형)\n",
    "- value: 값(임의의 자료형)\n",
    "- next: 뒤쪽 노드를 참고(Node형)\n",
    "\n",
    "Node 클래스는 키와 값이 짝을 이루는 구조입니다. 키에 해시 함수를 적용하여 해시값을 구합니다."
   ]
  },
  {
   "cell_type": "code",
   "execution_count": 6,
   "id": "678e09f1",
   "metadata": {},
   "outputs": [],
   "source": [
    "class ChainedHash:\n",
    "    \"\"\"체인법으로 해시 클래스 구현\"\"\"\n",
    "    \n",
    "    \n",
    "    def __init__(self, capacity: int) -> None:\n",
    "        \"\"\"초기화\"\"\"\n",
    "        self.capacity = capacity               # 해시 테이블의 크기를 지정\n",
    "        self.table = [None] * self.capacity   # 해시 테이블(리스트)을 선언\n",
    "        \n",
    "    \n",
    "    def hash_value(self, key: Any) -> int:\n",
    "        \"\"\"해시값을 구함\"\"\"\n",
    "        if isinstance(key, int):\n",
    "            return key % self.capacity\n",
    "        return(int(hashlib.sha256(str(key).encode()).hexdigest(), 16) % self.capacity)\n",
    "    \n",
    "    \n",
    "    def search(self, key: Any) -> Any:\n",
    "        \"\"\"키가 key인 원소를 검색하여 값을 반환\"\"\"\n",
    "        hash = self.hash_value(key)             # 검색하는 키의 해시값\n",
    "        p = self.table[hash]                    # 노드를 주목\n",
    "        \n",
    "        \n",
    "        while p is not None:\n",
    "            if p.key == key:\n",
    "                return p.value                 # 검색 성공\n",
    "            p = p.next                         # 뒤쪽 노드를 주목\n",
    "            \n",
    "        return None                           # 검색 실패\n",
    "    \n",
    "    \n",
    "    def add(self, key: Any, value: Any) -> bool:\n",
    "        \"\"\"키가 key이고 value인 원소를 추가\"\"\"\n",
    "        hash = self.hash_value(key)            # 추가하는 key의 해시값\n",
    "        p = self.table[hash]                   # 노드를 주목\n",
    "        \n",
    "        \n",
    "        while p is not None:\n",
    "            if p.key == key:\n",
    "                return False                  # 추가 실패\n",
    "            p = p.next                         # 뒤쪽 노드를 주목\n",
    "            \n",
    "        \n",
    "        temp = Node(key, value, self.table[hash])\n",
    "        self.table[hash] = temp                # 노드를 추가\n",
    "        return True                           # 추가 성공\n",
    "    \n",
    "    \n",
    "    def remove(self, key: Any) -> bool:\n",
    "        \"\"\"키가 key인 원소를 삭제\"\"\"\n",
    "        hash - self.hash_value(key)            # 삭제할 key의 해시값\n",
    "        p = self.table[hash]                   # 노드를 주목\n",
    "        pp = None                             # 바로 앞의 노드를 주목\n",
    "        \n",
    "        \n",
    "        while p is not None:\n",
    "            if p.key == key:                   # key를 발견하면 아래를 실행\n",
    "                if pp is None:\n",
    "                    self.table[hash] = p.next\n",
    "                else:\n",
    "                    pp.next = p.next\n",
    "                return True                   # key 삭제 성공\n",
    "            \n",
    "            pp = p\n",
    "            p = p.next                         # 뒤쪽 노드를 주목\n",
    "        return False                          # 삭제 실패(key가 존재하지 않음)\n",
    "    \n",
    "    \n",
    "    def dump(self) -> None:\n",
    "        \"\"\"해시 테이블을 덤프\"\"\"\n",
    "        for i in range(self.capacity):\n",
    "            p = self.table[i]\n",
    "            print(i, end = '')\n",
    "            while p is not None:\n",
    "                print(f' -> {p.key} ({p.value})', end = '')\n",
    "                p = p.next\n",
    "            print()"
   ]
  },
  {
   "cell_type": "markdown",
   "id": "6d5a8bc5",
   "metadata": {},
   "source": [
    "#### ChainedHash 해시 클래스 만들기\n",
    "\n",
    "- capacity: 해시 테이블의 크기(배열 table의 원소 수)를 나타냅니다.\n",
    "- table: 해시 테이블을 저장하는 list형 배열을 나타냅니다."
   ]
  },
  {
   "cell_type": "markdown",
   "id": "a2e97553",
   "metadata": {},
   "source": [
    "---\n",
    "- key가 int형인 경우 <br>\n",
    "key를 해시의 크기 capacity로 나눈 나머지를 해시값으로 합니다.\n",
    "<br>\n",
    "<br>\n",
    "- key가 int형이 아닌 경우 <br>\n",
    "key가 정수가 아닌 경우 그 값으로는 바로 나눌 수 없습니다. 그래서 다음과 같은 표준 라이브러리로 형 변환을 해야 해시값을 얻을 수 있습니다.\n",
    "다음은 앞에 코드에서 사용한 표준 라이브러리입니다."
   ]
  },
  {
   "cell_type": "markdown",
   "id": "6490f144",
   "metadata": {},
   "source": [
    "---\n",
    "- sha256 알고리즘: hashlib 모듈에서 제공하는 sha256은 RSA의 FIPS 알고리즘을 바탕으로 하며, 주어진 바이트(byte) 문자열의 해시값을 구하는 해시\n",
    "알고리즘의 생성자(constructor)입니다. hashlib 모듈은 sha256 외에도 MD5 알고리즘인 md5 등 다양한 해시 알고리즘을 제공합니다.\n",
    "<br>\n",
    "<br>\n",
    "- enconde() 함수: hashlib.sha256에는 바이트 문자열의 인수를 전달해야 합니다. 그래서 key를 str형 문자열로 변환한 뒤 그 문자열을\n",
    "encode() 함수에 전달하여 바이트 문자열을 생성합니다.\n",
    "<br>\n",
    "<br>\n",
    "- hexdigest() 함수: sha256 알고리즘에서 해시값을 16진수 문자열로 꺼냅니다.\n",
    "<br>\n",
    "<br>\n",
    "- int() 함수: hexdigest() 함수로 꺼낸 문자열을 16진수 문자열로 하는 int형으로 변환합니다.\n",
    "\n",
    "**return(int(hashlib.sha256(str(key).encode()).hexdigest(), 16) % self.capacity) 줄까지의 설명**\n",
    "\n",
    "---"
   ]
  },
  {
   "cell_type": "markdown",
   "id": "44ee32f9",
   "metadata": {},
   "source": [
    "#### add() 함수가 원소를 추가하는 과정은 다음과 같이 정리할 수 있습니다.\n",
    "\n",
    "1. 해시 함수를 사용하여 키를 해시값으로 변환합니다.\n",
    "2. 해시값을 인덱스로 하는 버킷에 주목합니다.\n",
    "3. 버킷이 참조하는 연결 리스트를 맨 앞부터 차례로 선형 검색을 합니다. 키와 같은 값이 발견되면 키가 이미 등록된 경우이므로 추가에\n",
    "실패합니다. 원소의 맨 끝까지 발견되지 않으면 해시값인 리스트의 맨 앞에 노드를 추가합니다."
   ]
  },
  {
   "cell_type": "markdown",
   "id": "5dcdbd04",
   "metadata": {},
   "source": [
    "#### remove() 함수가 원소를 삭제하는 과정은 다음과 같이 정리할 수 있습니다.\n",
    "\n",
    "1. 해시 함수를 사용하여 키를 해시값으로 변환합니다.\n",
    "2. 해시값을 인덱스로 하는 버킷에 주목합니다.\n",
    "3. 버킷이 참조하는 연결 리스트를 맨 앞부터 차례로 선형 검색합니다. 키와 같은 값이 발견되면 그 노드를 리스트에서 삭제합니다.\n",
    "그렇지 않으면 삭제에 실패합니다."
   ]
  },
  {
   "cell_type": "markdown",
   "id": "a185bde8",
   "metadata": {},
   "source": [
    "#### 원소를 출력하는 dump() 함수\n",
    "\n",
    "dump() 함수는 모든 원소를 덤프하는 것, 즉 해시 테이블의 내용을 한꺼번에 통째로 출력합니다."
   ]
  },
  {
   "cell_type": "code",
   "execution_count": 9,
   "id": "75051d9c",
   "metadata": {
    "collapsed": true
   },
   "outputs": [
    {
     "ename": "ModuleNotFoundError",
     "evalue": "No module named 'ChainedHash'",
     "output_type": "error",
     "traceback": [
      "\u001b[1;31m---------------------------------------------------------------------------\u001b[0m",
      "\u001b[1;31mModuleNotFoundError\u001b[0m                       Traceback (most recent call last)",
      "Input \u001b[1;32mIn [9]\u001b[0m, in \u001b[0;36m<cell line: 4>\u001b[1;34m()\u001b[0m\n\u001b[0;32m      1\u001b[0m \u001b[38;5;66;03m# 체인법을 구현하는 해시 클래스 ChainedHash의 사용\u001b[39;00m\n\u001b[0;32m      3\u001b[0m \u001b[38;5;28;01mfrom\u001b[39;00m \u001b[38;5;21;01menum\u001b[39;00m \u001b[38;5;28;01mimport\u001b[39;00m Enum\n\u001b[1;32m----> 4\u001b[0m \u001b[38;5;28;01mimport\u001b[39;00m \u001b[38;5;21;01mChainedHash\u001b[39;00m\n\u001b[0;32m      6\u001b[0m Menu \u001b[38;5;241m=\u001b[39m Enum(\u001b[38;5;124m'\u001b[39m\u001b[38;5;124mMenu\u001b[39m\u001b[38;5;124m'\u001b[39m, [\u001b[38;5;124m'\u001b[39m\u001b[38;5;124m추가\u001b[39m\u001b[38;5;124m'\u001b[39m, \u001b[38;5;124m'\u001b[39m\u001b[38;5;124m삭제\u001b[39m\u001b[38;5;124m'\u001b[39m, \u001b[38;5;124m'\u001b[39m\u001b[38;5;124m검색\u001b[39m\u001b[38;5;124m'\u001b[39m, \u001b[38;5;124m'\u001b[39m\u001b[38;5;124m덤프\u001b[39m\u001b[38;5;124m'\u001b[39m, \u001b[38;5;124m'\u001b[39m\u001b[38;5;124m종료\u001b[39m\u001b[38;5;124m'\u001b[39m])    \u001b[38;5;66;03m# 메뉴를 선언\u001b[39;00m\n\u001b[0;32m      8\u001b[0m \u001b[38;5;28;01mdef\u001b[39;00m \u001b[38;5;21mselect_menu\u001b[39m() \u001b[38;5;241m-\u001b[39m\u001b[38;5;241m>\u001b[39m Menu:\n",
      "\u001b[1;31mModuleNotFoundError\u001b[0m: No module named 'ChainedHash'"
     ]
    }
   ],
   "source": [
    "# 체인법을 구현하는 해시 클래스 ChainedHash의 사용\n",
    "\n",
    "from enum import Enum\n",
    "from chained_hash import ChainedHash\n",
    "\n",
    "Menu = Enum('Menu', ['추가', '삭제', '검색', '덤프', '종료'])    # 메뉴를 선언\n",
    "\n",
    "def select_menu() -> Menu:\n",
    "    \"\"\"메뉴 선택\"\"\"\n",
    "    s = [f'({m.value}){m.name}' for m in Menu]\n",
    "    while True:\n",
    "        print(*s, sep = '   ', end = '')\n",
    "        n = int(input(': '))\n",
    "        if 1 <= n <= len(Menu):\n",
    "            return Menu(n)\n",
    "        \n",
    "        \n",
    "hash = ChainedHash(13)         # 크기가 13인 해시 테이블을 생성\n",
    "\n",
    "while True:\n",
    "    menu = select_menu()       # 메뉴 선택\n",
    "    \n",
    "    \n",
    "    if menu == Menu.추가:      # 추가\n",
    "        key = int(input('추가할 키를 입력하세요.: '))\n",
    "        val = input('추가할 값을 입력하세요.: ')\n",
    "        if not hash.add(key, val):\n",
    "            print('추가를 실패했습니다!')\n",
    "            \n",
    "            \n",
    "    elif menu == Menu.삭제:    # 삭제\n",
    "        key = int(input('삭제할 키를 입력하세요.: '))\n",
    "        val = input('삭제할 값을 입력하세요.: ')\n",
    "        if not hash.remove(key, val):\n",
    "            print('삭제를 실패했습니다!')\n",
    "            \n",
    "    \n",
    "    elif menu == Menu.삭제:    # 삭제\n",
    "        key = int(input('삭제할 키를 입력하세요.: '))\n",
    "        if not hash.remove(key):\n",
    "            print('삭제를 실패했습니다!')\n",
    "            \n",
    "    \n",
    "    elif menu == Menu.검색:    # 검색\n",
    "        key = int(input('검색할 키를 입력하세요.: '))\n",
    "        t = hash.search(key)\n",
    "        if t is not None:\n",
    "            print('검색한 키를 갖는 값은 {t}입니다.')\n",
    "        else:               # t is None\n",
    "            print('검색할 데이터가 없습니다.')\n",
    "            \n",
    "            \n",
    "    elif menu == Menu.덤프:   # 덤프\n",
    "        hash.dump()\n",
    "        \n",
    "        \n",
    "    else:                     # 종료\n",
    "        break"
   ]
  },
  {
   "cell_type": "markdown",
   "id": "612a116b",
   "metadata": {},
   "source": [
    "# 오픈 주소법"
   ]
  },
  {
   "cell_type": "markdown",
   "id": "cdf2d0fc",
   "metadata": {},
   "source": [
    "해시 충돌이 발생할 때 해결하는 또 다른 방법으로 오픈 주소법이 있습니다.\n",
    "오픈 주소법은 충돌이 발생했을 때 재해시(rehashing)를 수행하여 빈 버킷을 찾는 방법을 말하며 닫힌 해시법(closedhashing)이라고도 합니다."
   ]
  },
  {
   "cell_type": "code",
   "execution_count": 10,
   "id": "55101082",
   "metadata": {},
   "outputs": [],
   "source": [
    "# Do it! 실습 3-7 오픈 주소법으로 해시함수 구현하기\n",
    "\n",
    "from __future__ import annotations\n",
    "from typing import Any, Type\n",
    "from enum import Enum\n",
    "import hashlib\n",
    "\n",
    "# 버킷의 속성\n",
    "class Status(Enum):\n",
    "    OCCUPIED = 0  # 데이터를 저장\n",
    "    EMPTY = 1     # 비어 있음\n",
    "    DELETED = 2   # 삭제 완료\n",
    "\n",
    "class Bucket:\n",
    "    \"\"\"해시를 구성하는 버킷\"\"\"\n",
    "\n",
    "    def __init__(self, key: Any = None, value: Any = None,\n",
    "                       stat: Status = Status.EMPTY) -> None:\n",
    "        \"\"\"초기화\"\"\"\n",
    "        self.key = key      # 키\n",
    "        self.value = value  # 값\n",
    "        self.stat = stat    # 속성\n",
    "\n",
    "    def set(self, key: Any, value: Any, stat: Status) -> None:\n",
    "        \"\"\"모든 필드에 값을 설정\"\"\"\n",
    "        self.key = key      # 키\n",
    "        self.value = value  # 값\n",
    "        self.stat = stat    # 속성\n",
    "\n",
    "    def set_status(self, stat: Status) -> None:\n",
    "        \"\"\"속성을 설정\"\"\"\n",
    "        self.stat = stat\n",
    "\n",
    "class OpenHash:\n",
    "    \"\"\"오픈 주소법을 구현하는 해시 클래스\"\"\"\n",
    "\n",
    "    def __init__(self, capacity: int) -> None:\n",
    "        \"\"\"초기화\"\"\"\n",
    "        self.capacity = capacity                 # 해시 테이블의 크기를 지정\n",
    "        self.table = [Bucket()] * self.capacity  # 해시 테이블\n",
    "\n",
    "    def hash_value(self, key: Any) -> int:\n",
    "        \"\"\"해시값을 구함\"\"\"\n",
    "        if isinstance(key, int):\n",
    "            return key % self.capacity\n",
    "        return(int(hashlib.md5(str(key).encode()).hexdigest(), 16)\n",
    "                % self.capacity)\n",
    "\n",
    "    def rehash_value(self, key: Any) -> int:\n",
    "        \"\"\"재해시값을 구함\"\"\"\n",
    "        return(self.hash_value(key) + 1) % self.capacity\n",
    "\n",
    "    def search_node(self, key: Any) -> Any:\n",
    "        \"\"\"키가 key인 버킷을 검색\"\"\"\n",
    "        hash = self.hash_value(key)  # 검색하는 키의 해시값\n",
    "        p = self.table[hash]         # 버킷을 주목\n",
    "\n",
    "        for i in range(self.capacity):\n",
    "            if p.stat == Status.EMPTY:\n",
    "                break\n",
    "            elif p.stat == Status.OCCUPIED and p.key == key:\n",
    "                return p\n",
    "            hash = self.rehash_value(hash)  # 재해시\n",
    "            p = self.table[hash]\n",
    "        return None\n",
    "\n",
    "    def search(self, key: Any) -> Any:\n",
    "        \"\"\"키가 key인 갖는 원소를 검색하여 값을 반환\"\"\"\n",
    "        p = self.search_node(key)\n",
    "        if p is not None:\n",
    "            return p.value  # 검색 성공\n",
    "        else:\n",
    "            return None     # 검색 실패\n",
    "\n",
    "    def add(self, key: Any, value: Any) -> bool:\n",
    "        \"\"\"키가 key이고 값이 value인 요소를 추가\"\"\"\n",
    "        if self.search(key) is not None:\n",
    "            return False             # 이미 등록된 키\n",
    "\n",
    "        hash = self.hash_value(key)  # 추가하는 키의 해시값\n",
    "        p = self.table[hash]         # 버킷을 주목\n",
    "        for i in range(self.capacity):\n",
    "            if p.stat == Status.EMPTY or p.stat == Status.DELETED:\n",
    "                self.table[hash] = Bucket(key, value, Status.OCCUPIED)\n",
    "                return True\n",
    "            hash = self.rehash_value(hash)  # 재해시\n",
    "            p = self.table[hash]\n",
    "        return False                        # 해시 테이블이 가득 참\n",
    "\n",
    "    def remove(self, key: Any) -> int:\n",
    "        \"\"\"키가 key인 갖는 요소를 삭제\"\"\"\n",
    "        p = self.search_node(key)  # 버킷을 주목\n",
    "        if p is None:\n",
    "            return False           # 이 키는 등록되어 있지 않음\n",
    "        p.set_status(Status.DELETED)\n",
    "        return True\n",
    "\n",
    "    def dump(self) -> None:\n",
    "        \"\"\"해시 테이블을 덤프\"\"\"\n",
    "        for i in range(self.capacity):\n",
    "            print(f'{i:2} ', end='')\n",
    "            if self.table[i].stat == Status.OCCUPIED:\n",
    "                print(f'{self.table[i].key} ({self.table[i].value})')\n",
    "            elif self.table[i].stat == Status.EMPTY:\n",
    "                print('-- 미등록 --')\n",
    "            elif self.table[i] .stat == Status.DELETED:\n",
    "                print('-- 삭제 완료 --')"
   ]
  },
  {
   "cell_type": "code",
   "execution_count": 11,
   "id": "50b9ad74",
   "metadata": {
    "collapsed": true
   },
   "outputs": [
    {
     "ename": "ModuleNotFoundError",
     "evalue": "No module named 'open_hash'",
     "output_type": "error",
     "traceback": [
      "\u001b[1;31m---------------------------------------------------------------------------\u001b[0m",
      "\u001b[1;31mModuleNotFoundError\u001b[0m                       Traceback (most recent call last)",
      "Input \u001b[1;32mIn [11]\u001b[0m, in \u001b[0;36m<cell line: 4>\u001b[1;34m()\u001b[0m\n\u001b[0;32m      1\u001b[0m \u001b[38;5;66;03m# [Do it! 실습 3-8] 오픈 주소법을 구현하는 해시 클래스 OpenHash 사용\u001b[39;00m\n\u001b[0;32m      3\u001b[0m \u001b[38;5;28;01mfrom\u001b[39;00m \u001b[38;5;21;01menum\u001b[39;00m \u001b[38;5;28;01mimport\u001b[39;00m Enum\n\u001b[1;32m----> 4\u001b[0m \u001b[38;5;28;01mfrom\u001b[39;00m \u001b[38;5;21;01mopen_hash\u001b[39;00m \u001b[38;5;28;01mimport\u001b[39;00m OpenHash\n\u001b[0;32m      6\u001b[0m Menu \u001b[38;5;241m=\u001b[39m Enum(\u001b[38;5;124m'\u001b[39m\u001b[38;5;124mMenu\u001b[39m\u001b[38;5;124m'\u001b[39m, [\u001b[38;5;124m'\u001b[39m\u001b[38;5;124m추가\u001b[39m\u001b[38;5;124m'\u001b[39m, \u001b[38;5;124m'\u001b[39m\u001b[38;5;124m삭제\u001b[39m\u001b[38;5;124m'\u001b[39m, \u001b[38;5;124m'\u001b[39m\u001b[38;5;124m검색\u001b[39m\u001b[38;5;124m'\u001b[39m, \u001b[38;5;124m'\u001b[39m\u001b[38;5;124m덤프\u001b[39m\u001b[38;5;124m'\u001b[39m, \u001b[38;5;124m'\u001b[39m\u001b[38;5;124m종료\u001b[39m\u001b[38;5;124m'\u001b[39m])\n\u001b[0;32m      8\u001b[0m \u001b[38;5;28;01mdef\u001b[39;00m \u001b[38;5;21mselect_menu\u001b[39m() \u001b[38;5;241m-\u001b[39m\u001b[38;5;241m>\u001b[39m Menu:\n",
      "\u001b[1;31mModuleNotFoundError\u001b[0m: No module named 'open_hash'"
     ]
    }
   ],
   "source": [
    "# [Do it! 실습 3-8] 오픈 주소법을 구현하는 해시 클래스 OpenHash 사용\n",
    "\n",
    "from enum import Enum\n",
    "from open_hash import OpenHash\n",
    "\n",
    "Menu = Enum('Menu', ['추가', '삭제', '검색', '덤프', '종료'])\n",
    "\n",
    "def select_menu() -> Menu:\n",
    "    \"\"\"메뉴 선택\"\"\"\n",
    "    s = [f'({m.value}){m.name}' for m in Menu]\n",
    "    while True:\n",
    "        print(*s, sep = '  ', end='')\n",
    "        n = int(input(': '))\n",
    "        if 1 <=  n <= len(Menu):\n",
    "            return Menu(n)\n",
    "\n",
    "hash = OpenHash(13)  # 크기가 13인 해시 테이블 생성\n",
    "\n",
    "while True:\n",
    "    menu = select_menu()  # 메뉴 선택\n",
    "\n",
    "    if menu == Menu.추가:  # 추가\n",
    "        key = int(input('추가할 키를 입력하세요.: '))\n",
    "        val = input('추가할 값을 입력하세요.: ')\n",
    "        if not hash.add(key, val):\n",
    "            print('추가를 실패했습니다!')\n",
    "\n",
    "    elif menu == Menu.삭제:  # 삭제\n",
    "        key = int(input('삭제할 키를 입력하세요.: '))\n",
    "        if not hash.remove(key):\n",
    "            print('삭제를 실패했습니다!')\n",
    "\n",
    "    elif menu == Menu.검색:  # 검색\n",
    "        key = int(input('검색할 키를 입력하세요.: '))\n",
    "        t = hash.search(key)\n",
    "        if t is not None:\n",
    "            print(f'검색한 키를 갖는 값은 {t}입니다.')\n",
    "        else:\n",
    "            print('검색할 데이터가 없습니다.')\n",
    "\n",
    "    elif menu == Menu.덤프:  # 덤프\n",
    "        hash.dump()\n",
    "\n",
    "    else:  # 종료\n",
    "        break"
   ]
  },
  {
   "cell_type": "markdown",
   "id": "c7a3a908",
   "metadata": {},
   "source": [
    "- 체인법: 해시값이 같은 (1 수연)과 (14, 민서)를 연결하는 연결 리스트가 버킷 1에 연결되어 있습니다.\n",
    "- 오픈 주소법: 나중에 추가한 (14, 민서)는 재해시 결과 버킷 2에는 등록되어 있습니다. 또 데이터를 삭제한 뒤 버킷 2는 삭제 완료 속성이 들어 있습니다."
   ]
  }
 ],
 "metadata": {
  "kernelspec": {
   "display_name": "Python 3 (ipykernel)",
   "language": "python",
   "name": "python3"
  },
  "language_info": {
   "codemirror_mode": {
    "name": "ipython",
    "version": 3
   },
   "file_extension": ".py",
   "mimetype": "text/x-python",
   "name": "python",
   "nbconvert_exporter": "python",
   "pygments_lexer": "ipython3",
   "version": "3.9.12"
  }
 },
 "nbformat": 4,
 "nbformat_minor": 5
}
