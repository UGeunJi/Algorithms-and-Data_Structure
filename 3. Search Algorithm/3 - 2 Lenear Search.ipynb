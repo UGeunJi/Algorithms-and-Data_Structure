{
 "cells": [
  {
   "cell_type": "markdown",
   "metadata": {},
   "source": [
    "배열에서 검색하는 방법 중 가장 기본적인 알고리즘은 선형 검색입니다. 이 알고리즘은 4장에서도 사용하므로 확실하게 알아 둡시다."
   ]
  },
  {
   "cell_type": "markdown",
   "metadata": {},
   "source": [
    "# 선형 탐색 "
   ]
  },
  {
   "cell_type": "markdown",
   "metadata": {},
   "source": [
    "선형 검색이란 직선 모양(선형)으로 늘어선 배열에서 검색하는 경우에 원하는 키값을 가진 원소를 찾을 때까지 맨 앞부터 스캔하여 순서대로 검색하는 알고리즘입니다."
   ]
  },
  {
   "cell_type": "markdown",
   "metadata": {},
   "source": [
    "## while 문으로 작성한 선형 검색 알고리즘"
   ]
  },
  {
   "cell_type": "code",
   "execution_count": 4,
   "metadata": {},
   "outputs": [
    {
     "name": "stdout",
     "output_type": "stream",
     "text": [
      "원소 수를 입력하세요.: 5\n",
      "x[0]: 5\n",
      "x[1]: 2\n",
      "x[2]: 1\n",
      "x[3]: 6\n",
      "x[4]: 7\n",
      "검색할 값을 입력하세요.: 2\n",
      "검색값은 x[1]에 있습니다.\n"
     ]
    }
   ],
   "source": [
    "from typing import Any, Sequence\n",
    "\n",
    "def seq_search(a: Sequence, key: Any) -> int:\n",
    "    \"\"\"시퀀스 a에서 key와 값이 같은 원소를 선형 검색(while문)\"\"\"\n",
    "    i = 0\n",
    "    \n",
    "    while True:\n",
    "        if i == len(a):\n",
    "            return -1     # 검색에 실패하여 -1을 반환\n",
    "        if a[i] == key:\n",
    "            return i      # 검색에 성공하여 현재 검사한 배열의 인덱스를 반환\n",
    "        i += 1\n",
    "        \n",
    "if __name__ == '__main__':\n",
    "    num = int(input('원소 수를 입력하세요.: '))  # num값을 입력받음\n",
    "    x = [None] * num                            # 원소 수가 num인 배열을 생성\n",
    "    \n",
    "    for i in range(num):\n",
    "        x[i] = int(input(f'x[{i}]: '))\n",
    "        \n",
    "    \n",
    "    ky = int(input('검색할 값을 입력하세요.: '))  # 검색할 키 ky를 입력받음\n",
    "    \n",
    "    idx = seq_search(x, ky)\n",
    "    \n",
    "    if idx == -1:\n",
    "        print('검색값을 갖는 원소가 존재하지 않습니다.')\n",
    "    else:\n",
    "        print(f'검색값은 x[{idx}]에 있습니다.')"
   ]
  },
  {
   "cell_type": "markdown",
   "metadata": {},
   "source": [
    "## for 문으로 작성한 선형 검색 알고리즘"
   ]
  },
  {
   "cell_type": "code",
   "execution_count": 5,
   "metadata": {},
   "outputs": [
    {
     "name": "stdout",
     "output_type": "stream",
     "text": [
      "원소 수를 입력하세요.: 5\n",
      "x[0]: 14\n",
      "x[1]: 5\n",
      "x[2]: 6\n",
      "x[3]: 1\n",
      "x[4]: 7\n",
      "검색할 값을 입력하세요.: 1\n",
      "검색값은 x[3]에 있습니다.\n"
     ]
    }
   ],
   "source": [
    "from typing import Any, Sequence\n",
    "\n",
    "def seq_search(a: Sequence, key: Any) -> int:\n",
    "    \"\"\"시퀀스 a에서 key와 값이 같은 원소를 선형 탐색(for 문)\"\"\"\n",
    "    for i in range(len(a)):\n",
    "        if a[i] == key:\n",
    "            return i   # 검색 성공(인덱스를 반환)\n",
    "    return -1          # 검색 실패(-1을 반환)\n",
    "\n",
    "if __name__ == '__main__':\n",
    "    num = int(input('원소 수를 입력하세요.: '))  # num값을 입력받음\n",
    "    x = [None] * num                            # 원소 수가 num인 배열을 생성\n",
    "    \n",
    "    for i in range(num):\n",
    "        x[i] = int(input(f'x[{i}]: '))\n",
    "        \n",
    "    \n",
    "    ky = int(input('검색할 값을 입력하세요.: '))  # 검색할 키 ky를 입력받음\n",
    "    \n",
    "    idx = seq_search(x, ky)\n",
    "    \n",
    "    if idx == -1:\n",
    "        print('검색값을 갖는 원소가 존재하지 않습니다.')\n",
    "    else:\n",
    "        print(f'검색값은 x[{idx}]에 있습니다.')"
   ]
  },
  {
   "cell_type": "markdown",
   "metadata": {},
   "source": [
    "## seq_search() 함수를 사용하여 실수 검색하기"
   ]
  },
  {
   "cell_type": "code",
   "execution_count": 7,
   "metadata": {
    "collapsed": true
   },
   "outputs": [
    {
     "ename": "ModuleNotFoundError",
     "evalue": "No module named 'ssearch_while'",
     "output_type": "error",
     "traceback": [
      "\u001b[1;31m---------------------------------------------------------------------------\u001b[0m",
      "\u001b[1;31mModuleNotFoundError\u001b[0m                       Traceback (most recent call last)",
      "\u001b[1;32m<ipython-input-7-a873cf5ef1bb>\u001b[0m in \u001b[0;36m<module>\u001b[1;34m\u001b[0m\n\u001b[1;32m----> 1\u001b[1;33m \u001b[1;32mfrom\u001b[0m \u001b[0mssearch_while\u001b[0m \u001b[1;32mimport\u001b[0m \u001b[0mseq_search\u001b[0m\u001b[1;33m\u001b[0m\u001b[1;33m\u001b[0m\u001b[0m\n\u001b[0m\u001b[0;32m      2\u001b[0m \u001b[1;33m\u001b[0m\u001b[0m\n\u001b[0;32m      3\u001b[0m \u001b[0mprint\u001b[0m\u001b[1;33m(\u001b[0m\u001b[1;34m'실수를 입력합니다.'\u001b[0m\u001b[1;33m)\u001b[0m\u001b[1;33m\u001b[0m\u001b[1;33m\u001b[0m\u001b[0m\n\u001b[0;32m      4\u001b[0m \u001b[0mprint\u001b[0m\u001b[1;33m(\u001b[0m\u001b[1;34m'주의: \"End\"를 입력하면 종료합니다.'\u001b[0m\u001b[1;33m)\u001b[0m\u001b[1;33m\u001b[0m\u001b[1;33m\u001b[0m\u001b[0m\n\u001b[0;32m      5\u001b[0m \u001b[1;33m\u001b[0m\u001b[0m\n",
      "\u001b[1;31mModuleNotFoundError\u001b[0m: No module named 'ssearch_while'"
     ]
    }
   ],
   "source": [
    "from ssearch_while import seq_search\n",
    "\n",
    "print('실수를 입력합니다.')\n",
    "print('주의: \"End\"를 입력하면 종료합니다.')\n",
    "\n",
    "number = 0\n",
    "x = []                                            # 빈 리스트 x를 생성\n",
    "\n",
    "while True:\n",
    "    s = input(f'x[{number}]: ')\n",
    "    if s == 'End':\n",
    "        break\n",
    "    x.append(float(s))                            # 배열 맨 끝에 원소를 추가\n",
    "    number += 1\n",
    "    \n",
    "    \n",
    "ky = float(input('검색할 값을 입력하세요.: '))    # 검색할 키 ky를 입력받기\n",
    "\n",
    "idx = seq_search(x, ky)\n",
    "if idx == -1:\n",
    "    print('검색값을 갖는 원소가 존재하지 않습니다.')\n",
    "else:\n",
    "    print(f'검색값은 x[{idx}]에 있습니다.')"
   ]
  },
  {
   "cell_type": "markdown",
   "metadata": {},
   "source": [
    "## seq_search() 함수를 사용하여 특정 인덱스 검색하기"
   ]
  },
  {
   "cell_type": "code",
   "execution_count": 8,
   "metadata": {
    "collapsed": true
   },
   "outputs": [
    {
     "ename": "ModuleNotFoundError",
     "evalue": "No module named 'ssearch_while'",
     "output_type": "error",
     "traceback": [
      "\u001b[1;31m---------------------------------------------------------------------------\u001b[0m",
      "\u001b[1;31mModuleNotFoundError\u001b[0m                       Traceback (most recent call last)",
      "\u001b[1;32m<ipython-input-8-4176a08f2d65>\u001b[0m in \u001b[0;36m<module>\u001b[1;34m\u001b[0m\n\u001b[1;32m----> 1\u001b[1;33m \u001b[1;32mfrom\u001b[0m \u001b[0mssearch_while\u001b[0m \u001b[1;32mimport\u001b[0m \u001b[0mseq_search\u001b[0m\u001b[1;33m\u001b[0m\u001b[1;33m\u001b[0m\u001b[0m\n\u001b[0m\u001b[0;32m      2\u001b[0m \u001b[1;33m\u001b[0m\u001b[0m\n\u001b[0;32m      3\u001b[0m \u001b[0mt\u001b[0m \u001b[1;33m=\u001b[0m \u001b[1;33m(\u001b[0m\u001b[1;36m4\u001b[0m\u001b[1;33m,\u001b[0m \u001b[1;36m7\u001b[0m\u001b[1;33m,\u001b[0m \u001b[1;36m5.6\u001b[0m\u001b[1;33m,\u001b[0m \u001b[1;36m2\u001b[0m\u001b[1;33m,\u001b[0m \u001b[1;36m3.14\u001b[0m\u001b[1;33m,\u001b[0m \u001b[1;36m1\u001b[0m\u001b[1;33m)\u001b[0m\u001b[1;33m\u001b[0m\u001b[1;33m\u001b[0m\u001b[0m\n\u001b[0;32m      4\u001b[0m \u001b[0ms\u001b[0m \u001b[1;33m=\u001b[0m \u001b[1;34m'string'\u001b[0m\u001b[1;33m\u001b[0m\u001b[1;33m\u001b[0m\u001b[0m\n\u001b[0;32m      5\u001b[0m \u001b[0ma\u001b[0m \u001b[1;33m=\u001b[0m \u001b[1;33m[\u001b[0m\u001b[1;34m'DTS'\u001b[0m\u001b[1;33m,\u001b[0m \u001b[1;34m'AAS'\u001b[0m\u001b[1;33m,\u001b[0m \u001b[1;34m'FLAC'\u001b[0m\u001b[1;33m]\u001b[0m\u001b[1;33m\u001b[0m\u001b[1;33m\u001b[0m\u001b[0m\n",
      "\u001b[1;31mModuleNotFoundError\u001b[0m: No module named 'ssearch_while'"
     ]
    }
   ],
   "source": [
    "from ssearch_while import seq_search\n",
    "\n",
    "t = (4, 7, 5.6, 2, 3.14, 1)\n",
    "s = 'string'\n",
    "a = ['DTS', 'AAS', 'FLAC']\n",
    "\n",
    "print(f'{t}에서 5.6의 인덱스는 {seq_search(t, 5.6)}입니다.')\n",
    "print(f'{s}에서 \"n\"의 인덱스는 {seq_search(s, \"n\")}입니다.')\n",
    "print(f'{a}에서 \"DTS\"의 인덱스는 {seq_search(a, \"DTS\")}입니다.')"
   ]
  },
  {
   "cell_type": "markdown",
   "metadata": {},
   "source": [
    "---"
   ]
  },
  {
   "cell_type": "markdown",
   "metadata": {},
   "source": [
    "# 보초법"
   ]
  },
  {
   "cell_type": "markdown",
   "metadata": {},
   "source": [
    "앞에서 설명했듯이 선형 검색은 반복할 때마다 2가지 종료 조건을 체크합니다. 단순한 판단이지만 이 과정을 계속 반복하면 종료 조건을 검사하는\n",
    "비용을 무시할 수 없습니다. 이 비용을 반으로 줄이는 방법이 앞으로 배울 보초법(Sentinel method)입니다."
   ]
  },
  {
   "cell_type": "markdown",
   "metadata": {},
   "source": [
    "배열 원소 a[0] ~ a[6]은 원래 데이터입니다. 그리고 검색하고자 하는 키값을 배열의 맨 끝 a[7]에 저장합니다. 이때 저장하는 값을 보초(Sentinel)\n",
    "라고 합니다. 보초는 다음과 같이 검색하는 키와 같은 값으로 추가합니다."
   ]
  },
  {
   "cell_type": "markdown",
   "metadata": {},
   "source": [
    "- 2를 추가: 2를 검색하려고 준비, a[7]에 보초 2를 추가합니다.\n",
    "- 5를 추가: 2를 검색하려고 준비, a[7]에 보초 5를 추가합니다.    "
   ]
  },
  {
   "cell_type": "markdown",
   "metadata": {},
   "source": [
    "## 선형 검색 알고리즘을 보초법으로 수정"
   ]
  },
  {
   "cell_type": "code",
   "execution_count": 9,
   "metadata": {},
   "outputs": [
    {
     "name": "stdout",
     "output_type": "stream",
     "text": [
      "원소 수를 입력하세요.: 6\n",
      "x[0]: 41\n",
      "x[1]: 5\n",
      "x[2]: 61\n",
      "x[3]: 7\n",
      "x[4]: 26\n",
      "x[5]: 1\n",
      "검색할 값을 입력하세요.: 2\n",
      "검색값을 갖는 원소가 존재하지 않습니다.\n"
     ]
    }
   ],
   "source": [
    "from typing import Any, Sequence\n",
    "import copy\n",
    "\n",
    "def seq_search(seq: Sequence, key: Any) -> int:\n",
    "    \"\"\"시퀀스 sseq에서 key와 일치하는 원소를 선형 검색(보초법)\"\"\"\n",
    "    a = copy.deepcopy(seq)  # seq를 복사\n",
    "    a.append(key)           # 보초 key를 추가\n",
    "    \n",
    "    i = 0\n",
    "    while True:\n",
    "        if a[i] == key:\n",
    "            break\n",
    "        i += 1\n",
    "    return -1 if i ==len(seq) else i\n",
    "\n",
    "if __name__ == '__main__':\n",
    "    num = int(input('원소 수를 입력하세요.: '))    # num값을 입력\n",
    "    x = [None] * num                              # 원소 수가 num인 배열을 생성\n",
    "    \n",
    "    \n",
    "    for i in range(num):\n",
    "        x[i] = int(input(f'x[{i}]: '))             \n",
    "    \n",
    "    \n",
    "    ky = int(input('검색할 값을 입력하세요.: '))   # 검색할 키 ky를 입력받기\n",
    "    \n",
    "    \n",
    "    idx = seq_search(x, ky)\n",
    "    \n",
    "    \n",
    "    if idx == -1:\n",
    "        print('검색값을 갖는 원소가 존재하지 않습니다.')\n",
    "    else:\n",
    "        print(f'검색값은 x[{idx}]에 있습니다.')"
   ]
  }
 ],
 "metadata": {
  "kernelspec": {
   "display_name": "Python 3",
   "language": "python",
   "name": "python3"
  },
  "language_info": {
   "codemirror_mode": {
    "name": "ipython",
    "version": 3
   },
   "file_extension": ".py",
   "mimetype": "text/x-python",
   "name": "python",
   "nbconvert_exporter": "python",
   "pygments_lexer": "ipython3",
   "version": "3.8.5"
  }
 },
 "nbformat": 4,
 "nbformat_minor": 4
}
