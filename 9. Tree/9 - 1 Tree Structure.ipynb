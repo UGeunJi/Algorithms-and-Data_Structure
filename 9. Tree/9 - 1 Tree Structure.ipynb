{
 "cells": [
  {
   "cell_type": "markdown",
   "id": "5a286aac",
   "metadata": {},
   "source": [
    "## 트리의 구조와 관련 용어"
   ]
  },
  {
   "cell_type": "markdown",
   "id": "4a40cc8d",
   "metadata": {},
   "source": [
    "트리는 노드(node)와 가지(edge)로 구성됩니다.\n",
    "\n",
    "- 루트(root): 트리의 가장 위쪽에 있는 노드\n",
    "- 리프(leaf): 가장 아래쪽에 있는 노드 - 단말 노드(terminal leaf), 외부 노드(external node)라고도 합니다.\n",
    "- 비단말 노드(non-terminal node): 리프를 제외한 노드 - 내부 노드(internal node)라고도 합니다.\n",
    "- 자식(child): 어떤 노드와 가지가 연결되었을 때 아래쪽 노드\n",
    "- 부모(parent): 어던 노드와 가지가 연결되었을 때 위쪽에 있는 노드\n",
    "- 형제(sibling): 부모가 같은 노드\n",
    "- 조상(ancester): 어떤 노드에서 위쪽으로 가지를 따라가면 만나는 모든 노드\n",
    "- 자손(descendent): 어떤 노드에서 아래쪽으로 가지를 따라가면 만나는 모든 노드\n",
    "- 레벨(level): 루트에서 얼마나 멀리 떨어져 있는지를 나타내는 것\n",
    "- 차수(degree): 각 노드가 갖는 자식의 수\n",
    "- 높이(height): 루트에서 가장 멀리 있는 리프까지의 거리, 곧 리프 레벨의 최댓값\n",
    "- 서브트리(subtree): 어떤 노드를 루트로 하고, 그 자손으로 구성된 트리\n",
    "- 빈 트리(None tree): 노드와 가지가 전혀 없는 트리 - 널 트리(null tree)라고도 합니다."
   ]
  },
  {
   "cell_type": "markdown",
   "id": "a653efd1",
   "metadata": {},
   "source": [
    "## 순서 트리와 무순서 트리\n",
    "\n",
    "- 트리는 형제 노드의 순서 관계가 있는지에 따라 구별되며, 순서 관계가 있으면 순서 트리(ordered tree), 구별되지 않으면 비순서 트리(unordered tree)라고 합니다"
   ]
  },
  {
   "cell_type": "markdown",
   "id": "2da633b5",
   "metadata": {},
   "source": [
    "## 순서 트리의 검색\n",
    "\n",
    "### 너비 우선 탐색(breadth-first search)\n",
    "\n",
    "너비 우선 탐색은 폭 우선 탐색, 가로 검색, 수평 검색이라고도 합니다. 너비 우선 검색은 낮은 레벨부터 왼쪽에서 오른쪽으로 검색하고, 한 레벨에서 검색을 마치면 다음 레벨로 내려가는 방법입니다.\n",
    "\n",
    "### 깊이 우선 검색(depth-first search)\n",
    "\n",
    "깊이 우선 검색은 세로 검색, 수직 검색이라고도 합니다. 깊이 우선 검색은 리프에 도달할 때까지 아래쪽으로 내려가면서 검색하는 것을 우선으로 하는 방법입니다. 리프에 도달해서 더 이상 검색할 곳이 없으면 일단 부모 노드로 돌아가고 그 뒤 다시 자식 노드로 내려갑니다."
   ]
  },
  {
   "cell_type": "markdown",
   "id": "734fbe92",
   "metadata": {},
   "source": [
    "### 깊이 우선 탐색의 3가지 스캔 방법\n",
    "\n",
    "#### 전위 순회(preorder)\n",
    "\n",
    "```\n",
    "노드 방문 -> 왼쪽 자식 -> 오른쪽 자식\n",
    "```\n",
    "\n",
    "#### 중위 순회(inorder)\n",
    "```\n",
    "왼쪽 자식 -> 노드 방문 -> 오른쪽 자식\n",
    "```\n",
    "\n",
    "#### 후위 순회(postorder)\n",
    "```\n",
    "왼쪽 자식 -> 오른쪽 자식 -> 노드 방문\n",
    "```"
   ]
  }
 ],
 "metadata": {
  "kernelspec": {
   "display_name": "Python 3 (ipykernel)",
   "language": "python",
   "name": "python3"
  },
  "language_info": {
   "codemirror_mode": {
    "name": "ipython",
    "version": 3
   },
   "file_extension": ".py",
   "mimetype": "text/x-python",
   "name": "python",
   "nbconvert_exporter": "python",
   "pygments_lexer": "ipython3",
   "version": "3.9.12"
  }
 },
 "nbformat": 4,
 "nbformat_minor": 5
}
