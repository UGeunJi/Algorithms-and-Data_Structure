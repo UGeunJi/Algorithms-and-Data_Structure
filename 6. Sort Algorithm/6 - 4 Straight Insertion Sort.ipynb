{
 "cells": [
  {
   "cell_type": "markdown",
   "metadata": {},
   "source": [
    "**단순 삽입 정렬**은 주목한 원소보다 더 앞쪽에서 알맞은 위치로 삽입하며 정렬하는 알고리즘입니다. 단순 선택 정렬과 비슷해 보이지만\n",
    "값이 가장 작은 원소를 선택하지 않는다는 점이 다릅니다."
   ]
  },
  {
   "cell_type": "markdown",
   "metadata": {},
   "source": [
    "## 단순 삽입 정렬 알아보기"
   ]
  },
  {
   "cell_type": "markdown",
   "metadata": {},
   "source": [
    "```\n",
    "j = i\n",
    "tmp = a[i]\n",
    "while j > 0 and a[j - 1] > tmp:\n",
    "    a[j] = a[j - 1]\n",
    "    j -= 1\n",
    "a[j] = tmp\n",
    "```"
   ]
  },
  {
   "cell_type": "markdown",
   "metadata": {},
   "source": [
    "a[i]보다 작은 수를 찾을 때까지 값을 하나씩 오른쪽으로 이동시킵니다.\n",
    "\n",
    "작은 수를 찾으면 한칸 오른쪽에 a[i]값을 넣습니다."
   ]
  },
  {
   "cell_type": "markdown",
   "metadata": {},
   "source": [
    "- 종료 조건 1: 정렬된 배열의 왼쪽 끝에 도달한 경우\n",
    "- 종료 조건 2: tmp보다 작거나 키값이 같은 원소 a[j - 1]을 발견할 경우\n",
    "    \n",
    "- 계속 조건 1: j가 0보다 큰 경우\n",
    "- 계속 조건 2: a[j - 1]의 값이 tmp보다 큰 경우"
   ]
  },
  {
   "cell_type": "code",
   "execution_count": 2,
   "metadata": {},
   "outputs": [
    {
     "name": "stdout",
     "output_type": "stream",
     "text": [
      "단순 삽입 정렬을 수행합니다.\n",
      "원소 수를 입력하세요.: 7\n",
      "x[0]: 1\n",
      "x[1]: 6\n",
      "x[2]: 8\n",
      "x[3]: 3\n",
      "x[4]: 42\n",
      "x[5]: 5\n",
      "x[6]: 1\n",
      "오름차순으로 정렬했습니다.\n",
      "x[0] = 1\n",
      "x[1] = 1\n",
      "x[2] = 3\n",
      "x[3] = 5\n",
      "x[4] = 6\n",
      "x[5] = 8\n",
      "x[6] = 42\n"
     ]
    }
   ],
   "source": [
    "# 단순 삽입 정렬 알고리즘 구현하기\n",
    "\n",
    "from typing import MutableSequence\n",
    "\n",
    "def insertion_sort(a: MutableSequence) -> None:\n",
    "    \"\"\"단순 삽입 정렬\"\"\"\n",
    "    n = len(a)\n",
    "    for i in range(1, n):\n",
    "        j = i\n",
    "        tmp = a[i]\n",
    "        while j > 0 and a[j - 1] > tmp:\n",
    "            a[j] = a[j - 1]\n",
    "            j -= 1\n",
    "        a[j] = tmp\n",
    "\n",
    "if __name__ == '__main__':\n",
    "    print('단순 삽입 정렬을 수행합니다.')\n",
    "    num = int(input('원소 수를 입력하세요.: '))\n",
    "    x = [None] * num  # 원소 수가 num인 배열을 생성\n",
    "    \n",
    "    for i in range(num):\n",
    "        x[i] = int(input(f'x[{i}]: '))\n",
    "        \n",
    "    insertion_sort(x)  # 배열 x를 단순 삽입 정렬\n",
    "    \n",
    "    print('오름차순으로 정렬했습니다.')\n",
    "    for i in range(num):\n",
    "        print(f'x[{i}] = {x[i]}')"
   ]
  },
  {
   "cell_type": "markdown",
   "metadata": {},
   "source": [
    "이 알고리즘은 서로 떨어져 있는 원소를 교환하지 않으므로 안정적이라고 할 수 있습니다.\n",
    "\n",
    "원소의 비교 횟수와 교환 횟수는 모두 $ n^2 ~ / ~ 2 $ 번입니다."
   ]
  },
  {
   "cell_type": "markdown",
   "metadata": {},
   "source": [
    "### 단순 정렬 알고리즘의 시간 복잡도"
   ]
  },
  {
   "cell_type": "markdown",
   "metadata": {},
   "source": [
    "지금까지 다룬 3가지 단순 정렬(버블, 선택, 삽입) 알고리즘의 시간 복잡도는 모두 $ O(n^2) $으로 프로그램의 효율이 좋지 않습니다.\n",
    "아래는 이러한 단순 정렬 알고리즘의 개선 방법을 적용한 정렬 알고리즘을 알아보겠습니다."
   ]
  },
  {
   "cell_type": "markdown",
   "metadata": {},
   "source": [
    "## 이진 삽입 정렬(binary insertion sort)"
   ]
  },
  {
   "cell_type": "code",
   "execution_count": 4,
   "metadata": {},
   "outputs": [
    {
     "name": "stdout",
     "output_type": "stream",
     "text": [
      "이진 삽입 정렬을 수행합니다.\n",
      "원소 수를 입력하세요.: 8\n",
      "x[0]: 2\n",
      "x[1]: 58\n",
      "x[2]: 692\n",
      "x[3]: 10\n",
      "x[4]: 59\n",
      "x[5]: 57\n",
      "x[6]: 20\n",
      "x[7]: 4\n",
      "오름차순으로 정렬했습니다.\n",
      "x[0] = 2\n",
      "x[1] = 4\n",
      "x[2] = 10\n",
      "x[3] = 20\n",
      "x[4] = 57\n",
      "x[5] = 58\n",
      "x[6] = 59\n",
      "x[7] = 692\n"
     ]
    }
   ],
   "source": [
    "# 이진 삽입 정렬 알고리즘 구현하기\n",
    "\n",
    "from typing import MutableSequence\n",
    "\n",
    "def binary_insertion_sort(a: MutableSequence) -> None:\n",
    "    \"\"\"이진 삽입 정렬\"\"\"\n",
    "    n = len(a)\n",
    "    for i in range(1, n):\n",
    "        key = a[i]\n",
    "        pl = 0                                   # 검색 범위의 맨 앞 원소 인덱스\n",
    "        pr = i - 1                               # 검색 범위의 맨 끝 원소 인덱스\n",
    "        \n",
    "        while True:\n",
    "            pc = (pl + pr) // 2                  # 검색 범위의 가운데 원소 인덱스\n",
    "            if a[pc] == key:                     # 검색 성공\n",
    "                break\n",
    "            elif a[pc] < key:\n",
    "                pl = pc + 1                      # 검색 범위를 뒤쪽 절반으로 좁힘\n",
    "            else:     \n",
    "                pr = pc - 1                      # 검색 범위를 앞쪽 절반으로 좁힘\n",
    "            if pl > pr:\n",
    "                break\n",
    "            \n",
    "        pd = pc + 1 if pl <= pr else pr + 1     # 삽입해야 할 위치의 인덱스\n",
    "        \n",
    "        for j in range(i, pd, -1):\n",
    "            a[j] = a[j - 1]\n",
    "        a[pd] = key\n",
    "        \n",
    "if __name__ == '__main__':\n",
    "    print('이진 삽입 정렬을 수행합니다.')\n",
    "    num = int(input('원소 수를 입력하세요.: '))\n",
    "    x = [None] * num                             # 원소 수가 num인 배열을 생성\n",
    "    \n",
    "    for i in range(num):\n",
    "        x[i] = int(input(f'x[{i}]: '))\n",
    "        \n",
    "    binary_insertion_sort(x)                      # 배열 x를 이진 삽입 정렬\n",
    "    \n",
    "    print('오름차순으로 정렬했습니다.')\n",
    "    for i in range(num):\n",
    "        print(f'x[{i}] = {x[i]}')"
   ]
  },
  {
   "cell_type": "code",
   "execution_count": 5,
   "metadata": {},
   "outputs": [
    {
     "name": "stdout",
     "output_type": "stream",
     "text": [
      "이진 삽입 정렬을 수행합니다.\n",
      "원소 수를 입력하세요.: 5\n",
      "x[0]: 1\n",
      "x[1]: 6\n",
      "x[2]: 8\n",
      "x[3]: 3\n",
      "x[4]: 2\n",
      "오름차순으로 정렬했습니다.\n",
      "x[0] = 1\n",
      "x[1] = 2\n",
      "x[2] = 3\n",
      "x[3] = 6\n",
      "x[4] = 8\n"
     ]
    }
   ],
   "source": [
    "# 이진 삽입 정렬 알고리즘 구현(bisect.insort 사용)\n",
    "\n",
    "from typing import MutableSequence\n",
    "import bisect\n",
    "\n",
    "def binary_insertion_sort(a: MutableSequence) -> None:\n",
    "    \"\"\"이진 삽입 정렬(bisect.insort 사용)\"\"\"\n",
    "    for i in range(1, len(a)):\n",
    "        bisect.insort(a, a.pop(i), 0, i)\n",
    "        \n",
    "if __name__ == '__main__':\n",
    "    print('이진 삽입 정렬을 수행합니다.')\n",
    "    num = int(input('원소 수를 입력하세요.: '))\n",
    "    x = [None] * num                             # 원소 수가 num인 배열을 생성\n",
    "    \n",
    "    for i in range(num):\n",
    "        x[i] = int(input(f'x[{i}]: '))\n",
    "        \n",
    "    binary_insertion_sort(x)                      # 배열 x를 이진 삽입 정렬\n",
    "    \n",
    "    print('오름차순으로 정렬했습니다.')\n",
    "    for i in range(num):\n",
    "        print(f'x[{i}] = {x[i]}')"
   ]
  }
 ],
 "metadata": {
  "kernelspec": {
   "display_name": "Python 3",
   "language": "python",
   "name": "python3"
  },
  "language_info": {
   "codemirror_mode": {
    "name": "ipython",
    "version": 3
   },
   "file_extension": ".py",
   "mimetype": "text/x-python",
   "name": "python",
   "nbconvert_exporter": "python",
   "pygments_lexer": "ipython3",
   "version": "3.8.5"
  }
 },
 "nbformat": 4,
 "nbformat_minor": 4
}
