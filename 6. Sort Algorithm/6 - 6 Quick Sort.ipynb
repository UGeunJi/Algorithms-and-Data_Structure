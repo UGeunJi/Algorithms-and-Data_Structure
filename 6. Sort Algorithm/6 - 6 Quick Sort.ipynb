{
 "cells": [
  {
   "cell_type": "markdown",
   "id": "de04c167",
   "metadata": {},
   "source": [
    "**퀵 정렬**은 가장 빠른 정렬 알고리즘으로 알려져 있으며 널리 사용됩니다."
   ]
  },
  {
   "cell_type": "markdown",
   "id": "17ffa41b",
   "metadata": {},
   "source": [
    "## 퀵 정렬 알아보기"
   ]
  },
  {
   "cell_type": "markdown",
   "id": "c11a6af9",
   "metadata": {},
   "source": [
    "퀵 정렬은 배열을 중앙 인덱스인 피벗을 기준으로 두 그룹으로 나누어 정렬을 진행합니다.\n",
    "그룹을 나누려면 피벗 이하인 원소를 배열 왼쪽(맨 앞쪽)으로, 피벗 이상인 원소를 배열 오른쪽(맨 뒤쪽)으로 이동시켜야 합니다."
   ]
  },
  {
   "cell_type": "markdown",
   "id": "ae9713c4",
   "metadata": {},
   "source": [
    "- a[pl] >= x가 성립하는 원소를 찾을 때까지 pl을 오른쪽 방향으로 스캔합니다.\n",
    "- a[pr] <= x가 성립하는 원소를 찾을 때까지 pr를 왼쪽 방향으로 스캔합니다."
   ]
  },
  {
   "cell_type": "markdown",
   "id": "3a9cb3c8",
   "metadata": {},
   "source": [
    "### 배열을 두 그룹으로 나누기"
   ]
  },
  {
   "cell_type": "code",
   "execution_count": 7,
   "id": "3b494c7d",
   "metadata": {},
   "outputs": [
    {
     "name": "stdout",
     "output_type": "stream",
     "text": [
      "배열을 나눕니다.\n",
      "원소 수를 입력하세요.: 7\n",
      "x[0]2\n",
      "x[1]5\n",
      "x[2]6\n",
      "x[3]1\n",
      "x[4]7\n",
      "x[5]9\n",
      "x[6]10\n",
      "피벗은 1입니다.\n",
      "피벗 이하인 그룹입니다.\n",
      "1\n",
      "피벗 이상인 그룹입니다.\n",
      "5 6 2 7 9 10\n"
     ]
    }
   ],
   "source": [
    "from typing import MutableSequence\n",
    "\n",
    "def partition(a: MutableSequence) -> None:\n",
    "    \"\"\"배열을 나누어 출력\"\"\"\n",
    "    n = len(a)\n",
    "    pl = 0           # 왼쪽 커서\n",
    "    pr = n - 1      # 오른쪽 커서\n",
    "    x = a[n // 2]   # 피벗(가운데 원소)\n",
    "    \n",
    "    while pl <= pr:\n",
    "        while a[pl] < x: pl += 1\n",
    "        while a[pr] > x: pr -= 1\n",
    "        if pl <= pr:\n",
    "            a[pl], a[pr] = a[pr], a[pl]\n",
    "            pl += 1\n",
    "            pr -= 1\n",
    "            \n",
    "    print(f'피벗은 {x}입니다.')\n",
    "    \n",
    "    print('피벗 이하인 그룹입니다.')\n",
    "    print(*a[0 : pl])           # a[0] ~ a[pl - 1]\n",
    "    \n",
    "    if pl > pr + 1:\n",
    "        print('피벗과 일치하는 그룹입니다.')\n",
    "        print(*a[pr + 1 : pl])  # a[pr + 1] ~ a[pl - 1]\n",
    "    \n",
    "    print('피벗 이상인 그룹입니다.')\n",
    "    print(*a[pr + 1 : n])       # a[pr + 1] ~ a[n - 1]\n",
    "    \n",
    "if __name__ == '__main__':\n",
    "    print('배열을 나눕니다.')\n",
    "    num = int(input('원소 수를 입력하세요.: '))\n",
    "    x = [None] * num           # 원소 수가 num인 배열을 생성\n",
    "    \n",
    "    for i in range(num):\n",
    "        x[i] = int(input(f'x[{i}]'))\n",
    "        \n",
    "    partition(x)                # 배열 x를 나누어서 출력"
   ]
  },
  {
   "cell_type": "markdown",
   "id": "ef00a989",
   "metadata": {},
   "source": [
    "### 이 방식을 반복함으로써 퀵 정렬을 구현합니다."
   ]
  },
  {
   "cell_type": "code",
   "execution_count": 8,
   "id": "3d4b1384",
   "metadata": {},
   "outputs": [
    {
     "name": "stdout",
     "output_type": "stream",
     "text": [
      "퀵 정렬을 수행합니다.\n",
      "원소 수를 입력하세요.: 7\n",
      "x[0]: 29\n",
      "x[1]: 10\n",
      "x[2]: 5\n",
      "x[3]: 6\n",
      "x[4]: 7\n",
      "x[5]: 1\n",
      "x[6]: 5\n",
      "오름차순으로 정렬했습니다.\n",
      "x[0] = 1\n",
      "x[1] = 5\n",
      "x[2] = 5\n",
      "x[3] = 6\n",
      "x[4] = 7\n",
      "x[5] = 10\n",
      "x[6] = 29\n"
     ]
    }
   ],
   "source": [
    "# 퀵 정렬 알고리즘 구현하기\n",
    "\n",
    "from typing import MutableSequence\n",
    "\n",
    "def qsort(a: MutableSequence, left: int, right: int) -> None:\n",
    "    \"\"\"a[left] ~ a[right]를 퀵 정렬\"\"\"\n",
    "    pl = left                        # 왼쪽 커서\n",
    "    pr = right                       # 오른쪽 커서\n",
    "    x = a[(left + right) // 2]      # 피벗(가운데 원소) \n",
    "    \n",
    "    while pl <= pr:\n",
    "        while a[pl] < x: pl += 1\n",
    "        while a[pr] > x: pr -= 1\n",
    "        if pl <= pr:\n",
    "            a[pl], a[pr] = a[pr], a[pl]\n",
    "            pl += 1\n",
    "            pr -= 1\n",
    "            \n",
    "    if left < pr: qsort(a, left, pr)\n",
    "    if pl < right: qsort(a, pl, right)\n",
    "        \n",
    "def quick_sort(a: MutableSequence) -> None:\n",
    "    \"\"\"퀵 정렬\"\"\"\n",
    "    qsort(a, 0, len(a) - 1)\n",
    "    \n",
    "if __name__ == '__main__':\n",
    "    print('퀵 정렬을 수행합니다.')\n",
    "    num = int(input('원소 수를 입력하세요.: '))\n",
    "    x = [None] * num    # 원소 수가 num인 배열을 생성\n",
    "    \n",
    "    for i in range(num):\n",
    "        x[i] = int(input(f'x[{i}]: '))\n",
    "        \n",
    "    quick_sort(x)        # 배열 x를 퀵 정렬\n",
    "    \n",
    "    print('오름차순으로 정렬했습니다.')\n",
    "    for i in range(num):\n",
    "        print(f'x[{i}] = {x[i]}')"
   ]
  },
  {
   "cell_type": "markdown",
   "id": "02a03438",
   "metadata": {},
   "source": [
    "- 재귀호출을 사용\n",
    "- 서로 이웃하지 않는 원소를 교환하므로 안정적이지 않은 알고리즘"
   ]
  },
  {
   "cell_type": "markdown",
   "id": "228b7caa",
   "metadata": {},
   "source": [
    "### 배열을 나누는 과정 출력"
   ]
  },
  {
   "cell_type": "code",
   "execution_count": 9,
   "id": "cea77f33",
   "metadata": {},
   "outputs": [
    {
     "name": "stdout",
     "output_type": "stream",
     "text": [
      "퀵 정렬을 수행합니다(배열을 나누는 과정 출력).\n",
      "원소 수를 입력하세요.: 7\n",
      "x[0]: 1\n",
      "x[1]: 5\n",
      "x[2]: 7\n",
      "x[3]: 8\n",
      "x[4]: 0\n",
      "x[5]: 10\n",
      "x[6]: 58\n",
      "a[0] ~ a[6]:  1 5 7 8 0 10 58\n",
      "a[0] ~ a[3]:  1 5 7 0\n",
      "a[0] ~ a[1]:  1 0\n",
      "a[2] ~ a[3]:  7 5\n",
      "a[4] ~ a[6]:  8 10 58\n",
      "오름차순으로 정렬했습니다.\n",
      "x[0] = 0\n",
      "x[1] = 1\n",
      "x[2] = 5\n",
      "x[3] = 7\n",
      "x[4] = 8\n",
      "x[5] = 10\n",
      "x[6] = 58\n"
     ]
    }
   ],
   "source": [
    "# 퀵 정렬 알고리즘 구현\n",
    "\n",
    "from typing import MutableSequence\n",
    "\n",
    "def qsort(a: MutableSequence, left: int, right: int) -> None:\n",
    "    \"\"\"a[left] ~ a[right]를 퀵 정렬(배열을 나누는 과정 출력)\"\"\"\n",
    "    pl = left                   # 왼쪽 커서\n",
    "    pr = right                  # 오른쪽 커서\n",
    "    x = a[(left + right) // 2]  # 피벗(가운데 원소)\n",
    "\n",
    "    print(f'a[{left}] ~ a[{right}]: ', *a[left : right + 1])  # 새로 추가된 부분\n",
    "\n",
    "    while pl <= pr:                     \n",
    "        while a[pl] < x: pl += 1\n",
    "        while a[pr] > x: pr -= 1\n",
    "        if pl <= pr:                    \n",
    "            a[pl], a[pr] = a[pr], a[pl]\n",
    "            pl += 1\n",
    "            pr -= 1\n",
    "\n",
    "    if left < pr: qsort(a, left, pr)   \n",
    "    if pl < right: qsort(a, pl, right)\n",
    "\n",
    "def quick_sort(a: MutableSequence) -> None:\n",
    "    \"\"\"퀵 정렬\"\"\"\n",
    "    qsort(a, 0, len(a) - 1)\n",
    "\n",
    "if __name__ == '__main__':\n",
    "    print('퀵 정렬을 수행합니다(배열을 나누는 과정 출력).')\n",
    "    num = int(input('원소 수를 입력하세요.: '))\n",
    "    x = [None] * num    # 원소 수가 num인 배열을 생성\n",
    "\n",
    "    for i in range(num):\n",
    "        x[i] = int(input(f'x[{i}]: '))\n",
    "\n",
    "    quick_sort(x)       # 배열 x를 퀵 정렬\n",
    "\n",
    "    print('오름차순으로 정렬했습니다.')\n",
    "    for i in range(num):\n",
    "        print(f'x[{i}] = {x[i]}')"
   ]
  },
  {
   "cell_type": "markdown",
   "id": "b86a8f27",
   "metadata": {},
   "source": [
    "### 비재귀적인 퀵 정렬 만들기"
   ]
  },
  {
   "cell_type": "code",
   "execution_count": null,
   "id": "311ee59b",
   "metadata": {},
   "outputs": [],
   "source": [
    "# 비재귀적인 퀵 정렬 구현하기\n",
    "\n",
    "from stack import Stack\n",
    "from typing import MutableSequence\n",
    "\n",
    "def qsort(a: MutableSequence, left: int, right: int) -> None:\n",
    "    \"\"\"a[left] ~ a[right]를 퀵 정렬(비재귀적인 퀵 정렬)\"\"\"\n",
    "    range = Stack(right - left + 1)                # 스택 생성\n",
    "    \n",
    "    range.push((left, right))\n",
    "    \n",
    "    while not range.is_empty():\n",
    "        pl, pr = left, right = range.pop()         # 왼쪽, 오른쪽 커서를 꺼냄\n",
    "        x = a[(left + right) // 2]                 # 피벗(가운데 원소)\n",
    "        \n",
    "        while pl <= pr:\n",
    "            while a[pl] < x: pl += 1\n",
    "            while a[pr] > x: pr -= 1\n",
    "            if pl <= pr:\n",
    "                a[pl], a[pr] = a[pr], a[pl]\n",
    "                pl += 1\n",
    "                pr -= 1\n",
    "                \n",
    "        if left < pr: range.push((left, pr))       # 왼쪽 그룹의 커서를 저장\n",
    "        if pr < right: range.push((pl, right))     # 오른쪽 그룹의 커서를 저장\n",
    "            \n",
    "if __name__ == '__main__':\n",
    "    print('퀵 정렬을 수행합니다(배열을 나누는 과정 출력).')\n",
    "    num = int(input('원소 수를 입력하세요.: '))\n",
    "    x = [None] * num    # 원소 수가 num인 배열을 생성\n",
    "\n",
    "    for i in range(num):\n",
    "        x[i] = int(input(f'x[{i}]: '))\n",
    "\n",
    "    qsort(x)       # 배열 x를 퀵 정렬\n",
    "\n",
    "    print('오름차순으로 정렬했습니다.')\n",
    "    for i in range(num):\n",
    "        print(f'x[{i}] = {x[i]}')"
   ]
  },
  {
   "cell_type": "markdown",
   "id": "1881e605",
   "metadata": {},
   "source": [
    "## 퀵 정렬의 시간 복잡도"
   ]
  },
  {
   "cell_type": "markdown",
   "id": "71721e03",
   "metadata": {},
   "source": [
    "시간 복잡도는 $ O(n~log~n) $ 입니다. 그런데 정렬하는 배열의 초깃값이나 피벗을 선택하는 방법에 따라 실행 시간 복잡도가 증가하는 경우도 있습니다. 예를 들어 매번 1개의 원소와 나머지 원소로 나누어진다면 n번의 분할이 필요합니다. 이러한 경우 시간 복잡도는 $ O(n^2) $ 이 됩니다."
   ]
  },
  {
   "cell_type": "markdown",
   "id": "119b328d",
   "metadata": {},
   "source": [
    "- 원소 수가 9개 미만인 경우 단순 삽입 정렬로 전환합니다.\n",
    "- 피벗 선택은 방법 2를 채택합니다."
   ]
  },
  {
   "cell_type": "code",
   "execution_count": 11,
   "id": "f361eb7a",
   "metadata": {},
   "outputs": [
    {
     "name": "stdout",
     "output_type": "stream",
     "text": [
      "퀵 정렬을 합니다(원소 수가 9개 미만이면 단순 삽입 정렬).\n",
      "원소 수를 입력하세요.: 12\n",
      "x[0]: 6\n",
      "x[1]: 1\n",
      "x[2]: 2\n",
      "x[3]: 7\n",
      "x[4]: 9\n",
      "x[5]: 3\n",
      "x[6]: 5\n",
      "x[7]: 6\n",
      "x[8]: 3\n",
      "x[9]: 6\n",
      "x[10]: 7\n",
      "x[11]: 9\n",
      "오름차순으로 정렬했습니다.\n",
      "x[0] = 1\n",
      "x[1] = 2\n",
      "x[2] = 3\n",
      "x[3] = 3\n",
      "x[4] = 5\n",
      "x[5] = 6\n",
      "x[6] = 6\n",
      "x[7] = 6\n",
      "x[8] = 7\n",
      "x[9] = 7\n",
      "x[10] = 9\n",
      "x[11] = 9\n"
     ]
    }
   ],
   "source": [
    "# 퀵 정렬 알고리즘 구현하기(원소 수가 9개 미만인 경우 단순 삽입 정렬)\n",
    "\n",
    "from typing import MutableSequence\n",
    "\n",
    "def sort3(a: MutableSequence, idx1: int, idx2: int, idx3: int):\n",
    "    \"\"\"a[idx1], a[idx2], a[idx3]을 오름차순으로 정렬하고 가운데 값의 인덱스를 반환\"\"\"\n",
    "    if a[idx2] < a[idx1]: a[idx2], a[idx1] = a[idx1], a[idx2]\n",
    "    if a[idx3] < a[idx2]: a[idx3], a[idx2] = a[idx2], a[idx3]\n",
    "    if a[idx2] < a[idx1]: a[idx2], a[idx1] = a[idx1], a[idx2]\n",
    "    return idx2\n",
    "\n",
    "def insertion_sort(a: MutableSequence, left: int, right: int) -> None:\n",
    "    \"\"\"a[left] ~ a[right]를 단순 삽입 정렬\"\"\"\n",
    "    for i in range(left + 1, right + 1):\n",
    "        j = i\n",
    "        tmp = a[i]\n",
    "        while j > 0 and a[j - 1] > tmp:\n",
    "            a[j] = a[j - 1]\n",
    "            j -= 1\n",
    "        a[j] = tmp\n",
    "\n",
    "def qsort(a: MutableSequence, left: int, right: int) -> None:\n",
    "    \"\"\"a[left] ~ a[right]를 퀵 정렬\"\"\"\n",
    "    if right - left < 9:            # 원소 수가 9개 미만이면 단순 삽입 정렬을 호출\n",
    "        insertion_sort(a, left, right)\n",
    "    else:                           # 원소 수가 9개 이상이면 퀵 정렬을 수행\n",
    "        pl = left                   # 왼쪽 커서\n",
    "        pr = right                  # 오른쪽 커서\n",
    "        m = sort3(a, pl, (pl + pr) // 2, pr)\n",
    "        x = a[m]\n",
    "\n",
    "        a[m], a[pr - 1] = a[pr - 1], a[m]\n",
    "        pl += 1\n",
    "        pr -= 2\n",
    "        while pl <= pr:\n",
    "            while a[pl] < x: pl += 1\n",
    "            while a[pr] > x: pr -= 1\n",
    "            if pl <= pr:\n",
    "                a[pl], a[pr] = a[pr], a[pl]\n",
    "                pl += 1\n",
    "                pr -= 1\n",
    "\n",
    "        if left < pr: qsort(a, left, pr)\n",
    "        if pl < right: qsort(a, pl, right)\n",
    "\n",
    "def quick_sort(a: MutableSequence) -> None:\n",
    "    \"\"\"퀵 정렬\"\"\"\n",
    "    qsort(a, 0, len(a) - 1)\n",
    "\n",
    "if __name__ == '__main__':\n",
    "    print('퀵 정렬을 합니다(원소 수가 9개 미만이면 단순 삽입 정렬).')\n",
    "    num = int(input('원소 수를 입력하세요.: '))\n",
    "    x = [None] * num    # 원소 수가 num인 배열을 생성\n",
    "\n",
    "    for i in range(num):\n",
    "        x[i] = int(input(f'x[{i}]: '))\n",
    "\n",
    "    quick_sort(x)       # 배열 x를 퀵 정렬\n",
    "\n",
    "    print('오름차순으로 정렬했습니다.')\n",
    "    for i in range(num):\n",
    "        print(f'x[{i}] = {x[i]}')"
   ]
  },
  {
   "cell_type": "markdown",
   "id": "ab3f45cb",
   "metadata": {},
   "source": [
    "## sorted() 함수로 정렬하기"
   ]
  },
  {
   "cell_type": "markdown",
   "id": "9a27fff7",
   "metadata": {},
   "source": [
    "- a, b =sorted([a, b])               # a, b를 오름차순으로 정렬\n",
    "- a, b, c = sorted([a, b, c])        # a, b, c를 오름차순으로 정렬\n",
    "- a, b, c, d = sorted([a, b, c, d])  # a, b, c, d를 오름차순으로 정렬"
   ]
  },
  {
   "cell_type": "code",
   "execution_count": 16,
   "id": "5764e73b",
   "metadata": {},
   "outputs": [
    {
     "name": "stdout",
     "output_type": "stream",
     "text": [
      "sorted() 함수를 사용하여 정렬합니다.\n",
      "원소 수를 입력하세요.: 7\n",
      "x[0]: 1\n",
      "x[1]: 2\n",
      "x[2]: 5\n",
      "x[3]: 6\n",
      "x[4]: 72\n",
      "x[5]: 2\n",
      "x[6]: 1\n",
      "오름차순으로 정렬했습니다.\n",
      "x[0] = 1\n",
      "x[1] = 1\n",
      "x[2] = 2\n",
      "x[3] = 2\n",
      "x[4] = 5\n",
      "x[5] = 6\n",
      "x[6] = 72\n",
      "내림차순으로 정렬했습니다.\n",
      "x[0] = 72\n",
      "x[1] = 6\n",
      "x[2] = 5\n",
      "x[3] = 2\n",
      "x[4] = 2\n",
      "x[5] = 1\n",
      "x[6] = 1\n"
     ]
    }
   ],
   "source": [
    "# sorted() 함수를 사용하여 정렬하기\n",
    "\n",
    "print('sorted() 함수를 사용하여 정렬합니다.')\n",
    "num = int(input('원소 수를 입력하세요.: '))\n",
    "x = [None] * num   # 원소 수가 num인 배열을 생성\n",
    "\n",
    "for i in range(num):\n",
    "    x[i] = int(input(f'x[{i}]: '))\n",
    "    \n",
    "# 배열 x를 오름차순으로 정렬\n",
    "x = sorted(x)\n",
    "print('오름차순으로 정렬했습니다.')\n",
    "for i in range(num):\n",
    "    print(f'x[{i}] = {x[i]}')\n",
    "    \n",
    "# 배열 x를 내림차순으로 정렬\n",
    "x = sorted(x, reverse = True)\n",
    "print('내림차순으로 정렬했습니다.')\n",
    "for i in range(num):\n",
    "    print(f'x[{i}] = {x[i]}')"
   ]
  }
 ],
 "metadata": {
  "kernelspec": {
   "display_name": "Python 3 (ipykernel)",
   "language": "python",
   "name": "python3"
  },
  "language_info": {
   "codemirror_mode": {
    "name": "ipython",
    "version": 3
   },
   "file_extension": ".py",
   "mimetype": "text/x-python",
   "name": "python",
   "nbconvert_exporter": "python",
   "pygments_lexer": "ipython3",
   "version": "3.9.12"
  }
 },
 "nbformat": 4,
 "nbformat_minor": 5
}
