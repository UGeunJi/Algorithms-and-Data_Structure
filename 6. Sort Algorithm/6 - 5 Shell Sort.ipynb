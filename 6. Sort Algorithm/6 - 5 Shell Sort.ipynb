{
 "cells": [
  {
   "cell_type": "markdown",
   "id": "4617e802",
   "metadata": {},
   "source": [
    "**셸 정렬**은 단순 삽입 정렬의 장점은 살리고 단점은 보완하여 더 빠르게 정렬하는 알고리즘입니다."
   ]
  },
  {
   "cell_type": "markdown",
   "id": "2b2992dc",
   "metadata": {},
   "source": [
    "- 장점: 이미 정렬을 마쳤거나 정렬이 거의 끝나가는 상태에서는 속도가 아주 빠릅니다.\n",
    "- 단점: 삽입할 위치가 멀리 떨어져 있으면 이동 횟수가 많아집니다."
   ]
  },
  {
   "cell_type": "markdown",
   "id": "bade98fe",
   "metadata": {},
   "source": [
    "### 셸 정렬 알아보기"
   ]
  },
  {
   "cell_type": "markdown",
   "id": "f3382954",
   "metadata": {},
   "source": [
    "셸 정렬은 먼저 정렬할 배열의 원소를 그룹으로 나눠 각 그룹별로 정렬을 수행합니다. 그 후 정렬된 그룹을 합치는 작업을 반복하여 원소의\n",
    "이동 횟수를 줄이는 방법입니다."
   ]
  },
  {
   "cell_type": "code",
   "execution_count": 2,
   "id": "abb7f937",
   "metadata": {},
   "outputs": [
    {
     "name": "stdout",
     "output_type": "stream",
     "text": [
      "셸 정렬을 수행합니다.\n",
      "원소 수를 입력하세요.: 6\n",
      "x[0]: 1\n",
      "x[1]: 5\n",
      "x[2]: 7\n",
      "x[3]: 2\n",
      "x[4]: 1\n",
      "x[5]: 9\n",
      "오름차순으로 정렬했습니다.\n",
      "x[[0] = 1\n",
      "x[[1] = 1\n",
      "x[[2] = 2\n",
      "x[[3] = 5\n",
      "x[[4] = 7\n",
      "x[[5] = 9\n"
     ]
    }
   ],
   "source": [
    "# 셸 정렬 알고리즘 구현하기\n",
    "\n",
    "from typing import MutableSequence\n",
    "\n",
    "def shell_sort(a: MutableSequence) -> None:\n",
    "    \"\"\"셸 정렬\"\"\"\n",
    "    n = len(a)\n",
    "    h = n // 2\n",
    "    while h > 0:\n",
    "        for i in range(h, n):\n",
    "            j = i - h\n",
    "            tmp = a[i]\n",
    "            while j >= 0 and a[j] > tmp:\n",
    "                a[j + h] = a[j]\n",
    "                j -= h\n",
    "            a[j + h] = tmp\n",
    "        h //= 2\n",
    "        \n",
    "if __name__ == '__main__':\n",
    "    print('셸 정렬을 수행합니다.')\n",
    "    num = int(input('원소 수를 입력하세요.: '))\n",
    "    x = [None] * num\n",
    "    \n",
    "    for i in range(num):\n",
    "        x[i] = int(input(f'x[{i}]: '))\n",
    "        \n",
    "    shell_sort(x)\n",
    "    \n",
    "    print('오름차순으로 정렬했습니다.')\n",
    "    for i in range(num):\n",
    "        print(f'x[{[i]} = {x[i]}')"
   ]
  },
  {
   "cell_type": "code",
   "execution_count": 5,
   "id": "bd10e540",
   "metadata": {},
   "outputs": [
    {
     "name": "stdout",
     "output_type": "stream",
     "text": [
      "셸 정렬을 수행합니다(h * 3 + 1의 수열 사용).\n",
      "원소 수를 입력하세요.: 6\n",
      "x[0]: 1\n",
      "x[1]: 6\n",
      "x[2]: 7\n",
      "x[3]: 2\n",
      "x[4]: 1\n",
      "x[5]: 8\n",
      "오름차순으로 정렬했습니다.\n",
      "x[0] = 1\n",
      "x[1] = 1\n",
      "x[2] = 2\n",
      "x[3] = 6\n",
      "x[4] = 7\n",
      "x[5] = 8\n"
     ]
    }
   ],
   "source": [
    "# 셸 정렬 알고리즘 구현하기(h * 3 + 1의 수열 사용)\n",
    "\n",
    "from typing import MutableSequence\n",
    "\n",
    "def shell_sort(a: MutableSequence) -> None:\n",
    "    \"\"\"셸 정렬(h * 3 + 1의 수열 사용)\"\"\"\n",
    "    n = len(a)\n",
    "    h = 1\n",
    "    \n",
    "    while h < n // 9:\n",
    "        h = h * 3 + 1\n",
    "        \n",
    "    while h > 0:\n",
    "        for i in range(h, n):\n",
    "            j = i - h\n",
    "            tmp = a[i]\n",
    "            while j >= 0 and a[j] > tmp:\n",
    "                a[j + h] = a[j]\n",
    "                j -= h\n",
    "            a[j + h] = tmp\n",
    "        h //= 3\n",
    "        \n",
    "if __name__ == '__main__':\n",
    "    print('셸 정렬을 수행합니다(h * 3 + 1의 수열 사용).')\n",
    "    num = int(input('원소 수를 입력하세요.: '))\n",
    "    x = [None] * num   # 원소 수가 num인 배열을 생성\n",
    "    \n",
    "    for i in range(num):\n",
    "        x[i] = int(input(f'x[{i}]: '))\n",
    "        \n",
    "    shell_sort(x)       # 배열 x를 셸 정렬\n",
    "    \n",
    "    print('오름차순으로 정렬했습니다.')\n",
    "    for i in range(num):\n",
    "        print(f'x[{i}] = {x[i]}')"
   ]
  }
 ],
 "metadata": {
  "kernelspec": {
   "display_name": "Python 3 (ipykernel)",
   "language": "python",
   "name": "python3"
  },
  "language_info": {
   "codemirror_mode": {
    "name": "ipython",
    "version": 3
   },
   "file_extension": ".py",
   "mimetype": "text/x-python",
   "name": "python",
   "nbconvert_exporter": "python",
   "pygments_lexer": "ipython3",
   "version": "3.9.12"
  }
 },
 "nbformat": 4,
 "nbformat_minor": 5
}
