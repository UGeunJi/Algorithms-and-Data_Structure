{
 "cells": [
  {
   "cell_type": "markdown",
   "id": "64c2b8a9",
   "metadata": {},
   "source": [
    "**도수 정렬**은 원소의 대소 관계를 판단하지 않고 빠르게 정렬하는 알고리즘으로, 분포수 세기(distribution counting) 정렬이라고도 합니다."
   ]
  },
  {
   "cell_type": "markdown",
   "id": "724c57b9",
   "metadata": {},
   "source": [
    "## 도수 정렬 알아보기"
   ]
  },
  {
   "cell_type": "markdown",
   "id": "3bb1e5e1",
   "metadata": {},
   "source": [
    "- 1단계: 도수 분포표 만들기\n",
    "- 2단계: 누적 도수 분포표 만들기\n",
    "- 3단계: 작업용 배열 만들기\n",
    "- 4단계: 배열 복사하기"
   ]
  },
  {
   "cell_type": "markdown",
   "id": "fdc454a0",
   "metadata": {},
   "source": [
    "### 도수 분포표는 무엇인가요?\n",
    "\n",
    "확률과 통계에서 자주 등장하는 용어인 도수 분포표는 자료를 몇 개의 등급으로 나누고 각 등급에 속하는 도수를 조사하여 나타낸 표를 의미합니다. 여기에서 도수는 각 등급에 속하는 자료의 개수입니다."
   ]
  },
  {
   "cell_type": "markdown",
   "id": "8613c4e7",
   "metadata": {},
   "source": [
    "### 도수 정렬은 if문을 사용하지 않고 for문만 반복해서 정렬할 수 있는 알고리즘입니다."
   ]
  },
  {
   "cell_type": "code",
   "execution_count": 1,
   "id": "4e89e971",
   "metadata": {},
   "outputs": [
    {
     "name": "stdout",
     "output_type": "stream",
     "text": [
      "도수 정렬을 수행합니다.\n",
      "원소 수를 입력하세요.: 7\n",
      "x[0]: 51\n",
      "x[1]: 2\n",
      "x[2]: 57\n",
      "x[3]: 12\n",
      "x[4]: 73\n",
      "x[5]: 83\n",
      "x[6]: 53\n",
      "오름차순으로 정렬했습니다.\n",
      "x[0] = 2\n",
      "x[1] = 12\n",
      "x[2] = 51\n",
      "x[3] = 53\n",
      "x[4] = 57\n",
      "x[5] = 73\n",
      "x[6] = 83\n"
     ]
    }
   ],
   "source": [
    "# 도수 정렬 알고리즘 구현하기\n",
    "\n",
    "from typing import MutableSequence\n",
    "\n",
    "def fsort(a: MutableSequence, max: int) -> None:\n",
    "    \"\"\"도수 정렬(배열 원솟값은 0 이상 max 이하)\"\"\"\n",
    "    n = len(a)\n",
    "    f = [0] * (max + 1)\n",
    "    b = [0] * n\n",
    "    \n",
    "    for i in range(n):                      f[a[i]] += 1                        # [1단계]\n",
    "    for i in range(1, max + 1):             f[i] += f[i - 1]                    # [2단계]\n",
    "    for i in range(n - 1, -1, -1):          f[a[i]] -= 1; b[f[a[i]]] = a[i]     # [3단계]\n",
    "    for i in range(n):                       a[i] = b[i]                         # [4단계]\n",
    "        \n",
    "def counting_sort(a: MutableSequence) -> None:\n",
    "    \"\"\"도수 정렬\"\"\"\n",
    "    fsort(a, max(a))\n",
    "    \n",
    "if __name__ == '__main__':\n",
    "    print('도수 정렬을 수행합니다.')\n",
    "    num = int(input('원소 수를 입력하세요.: '))\n",
    "    x = [None] * num                                 # 원소 수가 num인 배열을 생성\n",
    "    \n",
    "    for i in range(num):                             # 양수만 입력받도록 제한\n",
    "        while True:\n",
    "            x[i] = int(input(f'x[{i}]: '))\n",
    "            if x[i] >= 0: break\n",
    "                \n",
    "    counting_sort(x)                                  # 배열 x를 도수 정렬\n",
    "    \n",
    "    print('오름차순으로 정렬했습니다.')\n",
    "    for i in range(num):\n",
    "        print(f'x[{i}] = {x[i]}')"
   ]
  },
  {
   "cell_type": "markdown",
   "id": "cd00a3a7",
   "metadata": {},
   "source": [
    "#### 최솟값과 최댓값을 미리 알고 있는 경우에만 적용할 수 있습니다.\n",
    "#### 3단계에서 배열 a를 스캔할 때 맨 앞부터 스캔하면 안정적이지 않다는 점을 주의해야 합니다."
   ]
  }
 ],
 "metadata": {
  "kernelspec": {
   "display_name": "Python 3 (ipykernel)",
   "language": "python",
   "name": "python3"
  },
  "language_info": {
   "codemirror_mode": {
    "name": "ipython",
    "version": 3
   },
   "file_extension": ".py",
   "mimetype": "text/x-python",
   "name": "python",
   "nbconvert_exporter": "python",
   "pygments_lexer": "ipython3",
   "version": "3.9.12"
  }
 },
 "nbformat": 4,
 "nbformat_minor": 5
}
