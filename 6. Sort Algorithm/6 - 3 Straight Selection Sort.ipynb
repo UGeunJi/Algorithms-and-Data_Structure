{
 "cells": [
  {
   "cell_type": "markdown",
   "metadata": {},
   "source": [
    "**단순 선택 정렬**은 가장 작은 원소부터 선택해 알맞은 위치로 옮기는 작업을 반복하며 정렬하는 알고리즘입니다."
   ]
  },
  {
   "cell_type": "markdown",
   "metadata": {},
   "source": [
    "## 단순 선택 정렬 알아보기"
   ]
  },
  {
   "cell_type": "markdown",
   "metadata": {},
   "source": [
    "1. 아직 정렬하지 않은 부분에서 값이 가장 작은 원소 a[min]을 선택합니다.\n",
    "2. a[min]과 아직 정렬하지 않은 부분에서 맨 앞에 있는 원소를 교환합니다."
   ]
  },
  {
   "cell_type": "code",
   "execution_count": 1,
   "metadata": {},
   "outputs": [
    {
     "name": "stdout",
     "output_type": "stream",
     "text": [
      "단순 선택 정렬을 수행합니다.\n",
      "원소 소를 입력하세요.: 6\n",
      "x[0]: 5\n",
      "x[1]: 2\n",
      "x[2]: 7\n",
      "x[3]: 8\n",
      "x[4]: 2\n",
      "x[5]: 9\n",
      "오름차순으로 정렬했습니다.\n",
      "x[0] = 5\n",
      "x[1] = 5\n",
      "x[2] = 7\n",
      "x[3] = 8\n",
      "x[4] = 8\n",
      "x[5] = 8\n"
     ]
    }
   ],
   "source": [
    "# 단순 선택 정렬 알고리즘 구현하기\n",
    "\n",
    "from typing import MutableSequence\n",
    "\n",
    "def selection_sort(a: MutableSequence) -> None:\n",
    "    \"\"\"단순 선택 정렬\"\"\"\n",
    "    n = len(a)\n",
    "    for i in range(n - 1):\n",
    "        min = i   # 정렬할 부분에서 가장 작은 원소의 인덱스\n",
    "        for j in range(i + 1, n):\n",
    "            if a[j] < a[min]:\n",
    "                min = j\n",
    "        a[j], a[min] = a[min], a[i]   # 정렬할 부분에서 맨 앞의 원소와 가장 작은 원소를 교환\n",
    "        \n",
    "if __name__ == '__main__':\n",
    "    print('단순 선택 정렬을 수행합니다.')\n",
    "    num = int(input('원소 소를 입력하세요.: '))\n",
    "    x = [None] * num  # 원소 수가 num인 배열을 생성\n",
    "    \n",
    "    for i in range(num):\n",
    "        x[i] = int(input(f'x[{i}]: '))\n",
    "        \n",
    "    selection_sort(x)     # 배열 x를 버블 정렬\n",
    "    \n",
    "    print('오름차순으로 정렬했습니다.')\n",
    "    for i in range(num):\n",
    "        print(f'x[{i}] = {x[i]}')"
   ]
  },
  {
   "cell_type": "markdown",
   "metadata": {},
   "source": [
    "단순 선택 정렬 알고리즘의 원솟값을 비교하는 횟수는 $ (n^2 - n) ~ / ~ 2 $ 번입니다.\n",
    "\n",
    "이 알고리즘은 서로 이웃하지 않는 떨어져 있는 원소를 교환하므로 안정적이지 않습니다."
   ]
  }
 ],
 "metadata": {
  "kernelspec": {
   "display_name": "Python 3",
   "language": "python",
   "name": "python3"
  },
  "language_info": {
   "codemirror_mode": {
    "name": "ipython",
    "version": 3
   },
   "file_extension": ".py",
   "mimetype": "text/x-python",
   "name": "python",
   "nbconvert_exporter": "python",
   "pygments_lexer": "ipython3",
   "version": "3.8.5"
  }
 },
 "nbformat": 4,
 "nbformat_minor": 4
}
